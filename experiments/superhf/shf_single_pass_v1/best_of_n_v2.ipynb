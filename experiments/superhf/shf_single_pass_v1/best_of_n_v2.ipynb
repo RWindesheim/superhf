{
 "cells": [
  {
   "cell_type": "code",
   "execution_count": 74,
   "metadata": {},
   "outputs": [],
   "source": [
    "# script code\n",
    "import os\n",
    "import platform\n",
    "import random\n",
    "import sys\n",
    "import argparse\n",
    "from typing import List, Dict, Union\n",
    "\n",
    "import wandb\n",
    "import plotly\n",
    "import torch\n",
    "import transformers  # type: ignore\n",
    "from transformers import (\n",
    "    AutoTokenizer,\n",
    "    AutoModelForCausalLM,\n",
    "    AutoModelForSequenceClassification,\n",
    "    TrainingArguments,\n",
    ")\n",
    "from matplotlib import pyplot as plt  # type: ignore\n",
    "from superhf.data import get_superhf_prompts  # type: ignore\n",
    "from superhf.finetuning import SinglePassBestOfNTrainer  # type: ignore\n",
    "\n",
    "# finetunning code\n",
    "from accelerate import Accelerator, find_executable_batch_size\n",
    "from pynvml import nvmlInit, nvmlDeviceGetHandleByIndex, nvmlDeviceGetMemoryInfo\n",
    "\n",
    "# data code\n",
    "from torch.utils.data import Dataset, DataLoader\n",
    "from datasets import load_dataset"
   ]
  },
  {
   "cell_type": "code",
   "execution_count": 2,
   "metadata": {},
   "outputs": [
    {
     "name": "stdout",
     "output_type": "stream",
     "text": [
      "/sailhome/pchatain/projects/superhf/experiments/superhf/shf_single_pass_v1\n"
     ]
    }
   ],
   "source": [
    "!pwd"
   ]
  },
  {
   "cell_type": "code",
   "execution_count": 3,
   "metadata": {},
   "outputs": [],
   "source": [
    "# args\n",
    "LANGUAGE_MODEL_NAME = \"eleutherai/gpt-neo-1.3B\"\n",
    "REWARD_MODEL_NAME = \"OpenAssistant/reward-model-deberta-v3-base\"\n",
    "DATASET_NAME = \"openai/webgpt_comparisons\"\n",
    "NUM_TRAIN_EXAMPLES = 8000\n",
    "NUM_TEST_EXAMPLES = 100\n",
    "RANDOM_SEED = 66\n",
    "SHUTDOWN_AFTER_RUN = True\n",
    "MAX_EXAMPLE_LENGTH = 36\n",
    "# TODO ask what cache dir the user wants to use. default is ~/.cache/huggingface/"
   ]
  },
  {
   "cell_type": "code",
   "execution_count": 4,
   "metadata": {},
   "outputs": [
    {
     "name": "stdout",
     "output_type": "stream",
     "text": [
      "GPU memory occupied: 455 MB.\n",
      "Mon Feb 20 14:18:08 2023       \n",
      "+-----------------------------------------------------------------------------+\n",
      "| NVIDIA-SMI 515.43.04    Driver Version: 515.43.04    CUDA Version: 11.7     |\n",
      "|-------------------------------+----------------------+----------------------+\n",
      "| GPU  Name        Persistence-M| Bus-Id        Disp.A | Volatile Uncorr. ECC |\n",
      "| Fan  Temp  Perf  Pwr:Usage/Cap|         Memory-Usage | GPU-Util  Compute M. |\n",
      "|                               |                      |               MIG M. |\n",
      "|===============================+======================+======================|\n",
      "|   0  NVIDIA RTX A6000    On   | 00000000:25:00.0 Off |                  Off |\n",
      "| 30%   31C    P8    22W / 300W |      1MiB / 49140MiB |      0%      Default |\n",
      "|                               |                      |                  N/A |\n",
      "+-------------------------------+----------------------+----------------------+\n",
      "                                                                               \n",
      "+-----------------------------------------------------------------------------+\n",
      "| Processes:                                                                  |\n",
      "|  GPU   GI   CI        PID   Type   Process name                  GPU Memory |\n",
      "|        ID   ID                                                   Usage      |\n",
      "|=============================================================================|\n",
      "|  No running processes found                                                 |\n",
      "+-----------------------------------------------------------------------------+\n",
      "^C\n"
     ]
    }
   ],
   "source": [
    "# code\n",
    "def print_gpu_utilization() -> None:\n",
    "    \"\"\"\n",
    "    Print the GPU memory occupied using nvidia-smi.\n",
    "    \"\"\"\n",
    "    nvmlInit()\n",
    "    handle = nvmlDeviceGetHandleByIndex(0)\n",
    "    info = nvmlDeviceGetMemoryInfo(handle)\n",
    "    print(f\"GPU memory occupied: {info.used//1024**2} MB.\")\n",
    "print_gpu_utilization()\n",
    "! nvidia-smi"
   ]
  },
  {
   "cell_type": "code",
   "execution_count": 5,
   "metadata": {},
   "outputs": [
    {
     "name": "stdout",
     "output_type": "stream",
     "text": [
      "We are running on node:  jagupard34\n",
      "scr-sync\n",
      "Using scratch directory:  /self/scr-sync\n",
      "Check if returned dir exists: True\n"
     ]
    }
   ],
   "source": [
    "# code\n",
    "def check_node() -> str:\n",
    "    \"\"\"\n",
    "    Check if we are on the sail compute cluster. If so, return a scratch directory to\n",
    "    write checkpoints to and logs for wandb. If not, return None.\n",
    "    \"\"\"\n",
    "    if not os.path.exists(\"/sailhome\"):\n",
    "        print(\"Not on sail compute cluster.\")\n",
    "        return \"\"\n",
    "    # print machine name\n",
    "    machine_name = platform.node().split(\".\")[0]\n",
    "    print(\"We are running on node: \", machine_name)\n",
    "\n",
    "    # print available scratch directories\n",
    "    print(\" \".join(os.listdir(f\"/{machine_name}\")))\n",
    "\n",
    "    # get a random scratch directory\n",
    "    scratch_dir = \"/self/scr0\"\n",
    "    if not os.path.exists(scratch_dir):\n",
    "      scratch_dir = \"/self/\" + os.listdir(f\"/{machine_name}\")[0]\n",
    "    print(\"Using scratch directory: \", scratch_dir)\n",
    "    return scratch_dir\n",
    "print(f\"Check if returned dir exists: {os.path.exists(check_node())}\")"
   ]
  },
  {
   "cell_type": "code",
   "execution_count": 6,
   "metadata": {},
   "outputs": [
    {
     "name": "stdout",
     "output_type": "stream",
     "text": [
      "We are running on node:  jagupard34\n",
      "scr-sync\n",
      "Using scratch directory:  /self/scr-sync\n"
     ]
    },
    {
     "name": "stderr",
     "output_type": "stream",
     "text": [
      "\u001b[34m\u001b[1mwandb\u001b[0m: Currently logged in as: \u001b[33mpchatain\u001b[0m. Use \u001b[1m`wandb login --relogin`\u001b[0m to force relogin\n"
     ]
    },
    {
     "data": {
      "text/plain": [
       "True"
      ]
     },
     "execution_count": 6,
     "metadata": {},
     "output_type": "execute_result"
    }
   ],
   "source": [
    "# main code\n",
    "scratch_dir = check_node()\n",
    "device = torch.device(\"cuda\" if torch.cuda.is_available() else \"cpu\")\n",
    "\n",
    "wandb.login()"
   ]
  },
  {
   "cell_type": "code",
   "execution_count": 7,
   "metadata": {},
   "outputs": [],
   "source": [
    "# main code\n",
    "# Initialize random seeds for everything\n",
    "random.seed(RANDOM_SEED)\n",
    "torch.manual_seed(RANDOM_SEED)\n",
    "torch.cuda.manual_seed(RANDOM_SEED)\n",
    "transformers.enable_full_determinism(RANDOM_SEED)"
   ]
  },
  {
   "cell_type": "code",
   "execution_count": 8,
   "metadata": {},
   "outputs": [
    {
     "name": "stdout",
     "output_type": "stream",
     "text": [
      "GPU memory occupied: 458 MB.\n",
      "GPU memory occupied: 6359 MB.\n",
      "GPU memory occupied: 7097 MB.\n",
      "GPU memory occupied: 7097 MB.\n"
     ]
    }
   ],
   "source": [
    "# maind code\n",
    "print_gpu_utilization()\n",
    "language_model = AutoModelForCausalLM.from_pretrained(LANGUAGE_MODEL_NAME).to(\n",
    "        device\n",
    "    )\n",
    "print_gpu_utilization()\n",
    "reward_model = AutoModelForSequenceClassification.from_pretrained(\n",
    "    REWARD_MODEL_NAME\n",
    ").to(device)\n",
    "print_gpu_utilization()\n",
    "language_tokenizer = AutoTokenizer.from_pretrained(\n",
    "    LANGUAGE_MODEL_NAME, padding_side=\"left\"\n",
    ")\n",
    "reward_tokenizer = AutoTokenizer.from_pretrained(REWARD_MODEL_NAME)\n",
    "print_gpu_utilization()"
   ]
  },
  {
   "cell_type": "code",
   "execution_count": 9,
   "metadata": {},
   "outputs": [
    {
     "name": "stdout",
     "output_type": "stream",
     "text": [
      "GPU memory occupied: 7097 MB.\n",
      "Mon Feb 20 14:19:03 2023       \n",
      "+-----------------------------------------------------------------------------+\n",
      "| NVIDIA-SMI 515.43.04    Driver Version: 515.43.04    CUDA Version: 11.7     |\n",
      "|-------------------------------+----------------------+----------------------+\n",
      "| GPU  Name        Persistence-M| Bus-Id        Disp.A | Volatile Uncorr. ECC |\n",
      "| Fan  Temp  Perf  Pwr:Usage/Cap|         Memory-Usage | GPU-Util  Compute M. |\n",
      "|                               |                      |               MIG M. |\n",
      "|===============================+======================+======================|\n",
      "|   0  NVIDIA RTX A6000    On   | 00000000:25:00.0 Off |                  Off |\n",
      "| 30%   33C    P2    74W / 300W |   6642MiB / 49140MiB |      0%      Default |\n",
      "|                               |                      |                  N/A |\n",
      "+-------------------------------+----------------------+----------------------+\n",
      "                                                                               \n",
      "+-----------------------------------------------------------------------------+\n",
      "| Processes:                                                                  |\n",
      "|  GPU   GI   CI        PID   Type   Process name                  GPU Memory |\n",
      "|        ID   ID                                                   Usage      |\n",
      "|=============================================================================|\n",
      "|    0   N/A  N/A   1327896      C   ...3/envs/superhf/bin/python     6639MiB |\n",
      "+-----------------------------------------------------------------------------+\n"
     ]
    }
   ],
   "source": [
    "# main code\n",
    "models = {\"language_model\": language_model, \"reward_model\": reward_model}\n",
    "tokenizers = {\n",
    "    \"language_tokenizer\": language_tokenizer,\n",
    "    \"reward_tokenizer\": reward_tokenizer,\n",
    "}\n",
    "print_gpu_utilization()\n",
    "!nvidia-smi # why is there a slight disagreement?"
   ]
  },
  {
   "cell_type": "code",
   "execution_count": 78,
   "metadata": {},
   "outputs": [],
   "source": [
    "# data code\n",
    "class SummarizeFromFeedbackDataset(Dataset):\n",
    "    \"\"\"\n",
    "    A webGPT dataset implementation for generating completions completions as well as finetuning a model on those generated completions.\n",
    "    Loaded from hugging face.s\n",
    "    \"\"\"\n",
    "    def __init__(self, split: str) -> None:\n",
    "        \"\"\"\n",
    "        Return either the test or the train split for this dataset.\n",
    "        # TODO: Add both the train and valid split?\n",
    "        \"\"\"\n",
    "        super().__init__()\n",
    "        self.data = load_dataset(\"openai/summarize_from_feedback\", \"comparisons\")[split]\n",
    "    \n",
    "    def __len__(self) -> int:\n",
    "        return len(self.data)\n",
    "    \n",
    "    def __getitem__(self, idx: int) -> Dict[str, str]:\n",
    "        \"\"\"\n",
    "        Returns a tuple of the prompt, the completion, and the reward. The completions are re-ordered so that it is always\n",
    "        chosen followed by rejected. \n",
    "        \"\"\"\n",
    "        assert self.data[idx][\"choice\"] in [0, 1], f\"The choice for entry {idx} is not 0 or 1, it was {self.data[idx]['choice']}.\"\n",
    "        prompt = self.data[idx][\"info\"][\"post\"]\n",
    "        completion_chosen = self.data[idx][\"summaries\"][self.data[idx][\"choice\"]][\"text\"]\n",
    "        completion_rejected = self.data[idx][\"summaries\"][1 - self.data[idx][\"choice\"]][\"text\"]\n",
    "        return {\n",
    "            \"prompt\": prompt,\n",
    "            \"completions\": [completion_chosen, completion_rejected]\n",
    "        }\n",
    "\n",
    "class WebgptComparisons(Dataset):\n",
    "    \"\"\"\n",
    "    A webGPT dataset implementation for generating completions completions as well as finetuning a model on those generated completions.\n",
    "    Loaded from hugging face.s\n",
    "    \"\"\"\n",
    "    def __init__(self, split: str) -> None:\n",
    "        \"\"\"\n",
    "        Return either the test or the train split for this dataset.\n",
    "        # TODO: Add both the train and valid split?\n",
    "        \"\"\"\n",
    "        super().__init__()\n",
    "        self.data = load_dataset(\"openai/webgpt_comparisons\")[split]\n",
    "    \n",
    "    def __len__(self) -> int:\n",
    "        return len(self.data)\n",
    "    \n",
    "    def __getitem__(self, idx: int) -> Dict[str, str]:\n",
    "        \"\"\"\n",
    "        Returns a tuple of the prompt, the completion, and the reward. The completions are re-ordered so that it is always\n",
    "        chosen followed by rejected. \n",
    "        \"\"\"\n",
    "        prompt = self.data[idx][\"question\"][\"full_text\"]\n",
    "        score_0, score_1 = self.data[idx][\"score_0\"], self.data[idx][\"score_1\"]\n",
    "        completion_chosen_idx = \"answer_0\" if score_0 >= 0 else \"answer_1\"\n",
    "        completion_rejected_idx = \"answer_1\" if score_0 >= 0 else \"answer_0\"\n",
    "        completion_chosen = self.data[idx][completion_chosen_idx]\n",
    "        completion_rejected = self.data[idx][completion_rejected_idx]\n",
    "        return {\n",
    "            \"prompt\": prompt,\n",
    "            \"completions\": [completion_chosen, completion_rejected],\n",
    "            \"scores\": [score_0, score_1]\n",
    "        }\n",
    "\n",
    "# class FinetuneDataset(Dataset):\n",
    "#     \"\"\"\n",
    "#     A dataset containing only the completions we plan to train on.\n",
    "#     \"\"\"\n",
    "#     def __init__(self, dataset: Dataset, unique_prompt_indices=[]) -> None:\n",
    "#         super().__init__()\n",
    "#         self.data = dataset\n",
    "#         self.unique_prompt_indices = unique_prompt_indices\n",
    "#     def __len__(self) -> int:\n",
    "#         return len(self.data)\n",
    "    \n",
    "#     def __getitem__(self, index) -> str:\n",
    "#         \"\"\"\n",
    "#         Returns a single completion.\n",
    "#         \"\"\"\n",
    "#         answer_completion_pair = self.data[index][\"prompt\"] + \"[SEP]\" + self.data[index][\"completions\"][0]\n",
    "#         return answer_completion_pair\n",
    "\n",
    "class PromptDataset(Dataset):\n",
    "    \"\"\"\n",
    "    Get only the prompts from a particular dataset.\n",
    "    TODO: implement fully\n",
    "    \"\"\"\n",
    "    def __init__(self, dataset: Dataset) -> None:\n",
    "        super().__init__()\n",
    "        self.data = dataset.data\n",
    "    \n",
    "    def __len__(self) -> int:\n",
    "        return len(self.data)\n",
    "    \n",
    "    def __getitem__(self, idx: int) -> str:\n",
    "        \"\"\"\n",
    "        Dataset must have a 'prompt' key containing single prompt at each example.\n",
    "        \"\"\"\n",
    "        return self.data[idx][\"prompt\"]\n"
   ]
  },
  {
   "cell_type": "code",
   "execution_count": null,
   "metadata": {},
   "outputs": [],
   "source": [
    "# main generating code\n",
    "generating_dataset = WebgptComparisons(\"train\")\n",
    "print(f\"Number of examples in generating dataset: {len(generating_dataset.data)}\")"
   ]
  },
  {
   "cell_type": "code",
   "execution_count": 33,
   "metadata": {},
   "outputs": [
    {
     "name": "stdout",
     "output_type": "stream",
     "text": [
      "Heterophobia is the irrational fear of what\n"
     ]
    }
   ],
   "source": [
    "print(generating_dataset.data[2][\"question\"][\"full_text\"])"
   ]
  },
  {
   "attachments": {},
   "cell_type": "markdown",
   "metadata": {},
   "source": [
    "#### The prefix for example zero\n",
    " Voiced by Harry Shearer, what Simpsons character was modeled after Ted Koppel?◼[1] Kent Brockman (en.wikipedia.org)\n",
    "\n",
    "Kent Brockman is a fictional character in the animated television series The Simpsons. He is voiced by Harry Shearer and first appeared in the episode \"Krusty Gets Busted\". He is a grumpy, self-centered local Springfield news anchor.◼[2] Krusty the Clown (en.wikipedia.org)\n",
    "\n",
    "Krusty was created by cartoonist Matt Groening and partially inspired by Rusty Nails, a television clown from Groening's hometown of Portland, Oregon.◼"
   ]
  },
  {
   "attachments": {},
   "cell_type": "markdown",
   "metadata": {},
   "source": [
    "#### each part\n"
   ]
  },
  {
   "cell_type": "code",
   "execution_count": 112,
   "metadata": {},
   "outputs": [
    {
     "name": "stdout",
     "output_type": "stream",
     "text": [
      "The untokenized version is\n",
      " Voiced by Harry Shearer, what Simpsons character was modeled after Ted Koppel?◼[1] Kent Brockman (en.wikipedia.org)\n",
      "\n",
      "Kent Brockman is a fictional character in the animated television series The Simpsons. He is voiced by Harry Shearer and first appeared in the episode \"Krusty Gets Busted\". He is a grumpy, self-centered local Springfield news anchor.◼[2] Krusty the Clown (en.wikipedia.org)\n",
      "\n",
      "Krusty was created by cartoonist Matt Groening and partially inspired by Rusty Nails, a television clown from Groening's hometown of Portland, Oregon.◼\n",
      "{'dataset': 'triviaqa', 'id': '18c654a169eb80287f4353d33e701b1c', 'full_text': 'Voiced by Harry Shearer, what Simpsons character was modeled after Ted Koppel?'}\n",
      "{'title': ['Kent Brockman (en.wikipedia.org)', 'Krusty the Clown (en.wikipedia.org)'], 'extract': ['Kent Brockman is a fictional character in the animated television series The Simpsons. He is voiced by Harry Shearer and first appeared in the episode \"Krusty Gets Busted\". He is a grumpy, self-centered local Springfield news anchor.', \"Krusty was created by cartoonist Matt Groening and partially inspired by Rusty Nails, a television clown from Groening's hometown of Portland, Oregon.\"]}\n",
      "----\n",
      "Voiced by Harry Shearer, what Simpsons character was modeled after Ted Koppel?[SEP]Kent Brockman (en.wikipedia.org)\n",
      "\n",
      "Kent Brockman is a fictional character in the animated television series The Simpsons. He is voiced by Harry Shearer and first appeared in the episode \"Krusty Gets Busted\". He is a grumpy, self-centered local Springfield news anchor.[SEP]Krusty the Clown (en.wikipedia.org)\n",
      "\n",
      "Krusty was created by cartoonist Matt Groening and partially inspired by Rusty Nails, a television clown from Groening's hometown of Portland, Oregon.\n",
      "----\n",
      "['Kent Brockman is a fictional character in the animated television series The Simpsons. He is voiced by Harry Shearer and first appeared in the episode \"Krusty Gets Busted\". He is a grumpy, self-centered local Springfield news anchor.', \"Krusty was created by cartoonist Matt Groening and partially inspired by Rusty Nails, a television clown from Groening's hometown of Portland, Oregon.\"]\n",
      "[42144, 3711, 416, 5850, 1375, 11258, 11, 644, 34376, 2095, 373, 29563, 706, 11396, 509, 10365, 417, 30, 42265, 20501, 805, 318, 257, 19812, 2095, 287, 262, 15108, 5581, 2168, 383, 34376, 13, 679, 318, 21346, 416, 5850, 1375, 11258, 290, 717, 4120, 287, 262, 4471, 366, 42, 11469, 88, 29620, 347, 8459, 1911, 679, 318, 257, 1036, 32152, 11, 2116, 12, 38050, 1957, 27874, 1705, 18021, 13, 42, 11469, 88, 373, 2727, 416, 16251, 396, 4705, 10299, 3101, 290, 12387, 7867, 416, 47449, 399, 1768, 11, 257, 5581, 25573, 422, 10299, 3101, 338, 20994, 286, 10727, 11, 8819, 13]\n",
      "\n",
      "[42144, 3711, 416, 5850, 1375, 11258, 11, 644, 34376, 2095, 373, 29563, 706, 11396, 509, 10365, 417, 30, 48366, 58, 16, 60, 8758, 20501, 805, 357, 268, 13, 31266, 13, 2398, 8, 198, 198, 42265, 20501, 805, 318, 257, 19812, 2095, 287, 262, 15108, 5581, 2168, 383, 34376, 13, 679, 318, 21346, 416, 5850, 1375, 11258, 290, 717, 4120, 287, 262, 4471, 366, 42, 11469, 88, 29620, 347, 8459, 1911, 679, 318, 257, 1036, 32152, 11, 2116, 12, 38050, 1957, 27874, 1705, 18021, 13, 48366, 58, 17, 60, 509, 11469, 88, 262, 36887, 357, 268, 13, 31266, 13, 2398, 8, 198, 198, 42, 11469, 88, 373, 2727, 416, 16251, 396, 4705, 10299, 3101, 290, 12387, 7867, 416, 47449, 399, 1768, 11, 257, 5581, 25573, 422, 10299, 3101, 338, 20994, 286, 10727, 11, 8819, 13, 48366]\n",
      "-1.0\n",
      "The Simpsons character that was possibly based on Ted Koppel is Kent Brockman.  He is a local news anchor in Springfield and is modeled after Ted Koppel. [1]\n",
      "---\n",
      "Apu Nahasapeemapetilon is a recurring character in the American animated television series The Simpsons. He is an Indian immigrant proprietor who runs the Kwik-E-Mart, a popular convenience store in Springfield. [1] He was based on Peter Seller's character in the film The Party. [2]\n"
     ]
    }
   ],
   "source": [
    "# print(generating_dataset.data[0][\"tokens_0\"][\"prefix\"])\n",
    "print(f\"The untokenized version is\\n {language_tokenizer.decode(generating_dataset.data[0]['tokens_0']['prefix'])}\")\n",
    "input_str_example1 = generating_dataset.data[0][\"quotes_0\"]['extract']\n",
    "print(generating_dataset.data[0][\"question\"])\n",
    "print(generating_dataset.data[0][\"quotes_0\"])\n",
    "# from matching the above, it looks like the forumla is full_text<SEP>Title[0]\\n\\nExtract[0]<SEP>title[1]\\n\\nExtract[1]\n",
    "print(\"----\")\n",
    "print(generating_dataset.data[0][\"question\"][\"full_text\"] + \"[SEP]\" + generating_dataset.data[0][\"quotes_0\"][\"title\"][0] + \"\\n\\n\" + generating_dataset.data[0][\"quotes_0\"][\"extract\"][0] + \"[SEP]\" + generating_dataset.data[0][\"quotes_0\"][\"title\"][1] + \"\\n\\n\" + generating_dataset.data[0][\"quotes_0\"][\"extract\"][1])\n",
    "print(\"----\")\n",
    "print(input_str_example1)\n",
    "print(language_tokenizer(generating_dataset.data[0][\"question\"][\"full_text\"] + input_str_example1[0] + input_str_example1[1]).input_ids)\n",
    "print()\n",
    "print(generating_dataset.data[0]['tokens_0']['prefix'])\n",
    "print(generating_dataset.data[0][\"score_1\"])\n",
    "print(generating_dataset.data[0][\"answer_0\"])\n",
    "print(\"---\")\n",
    "print(generating_dataset.data[0][\"answer_1\"])"
   ]
  },
  {
   "cell_type": "code",
   "execution_count": 135,
   "metadata": {},
   "outputs": [
    {
     "name": "stdout",
     "output_type": "stream",
     "text": [
      "Voiced by Harry Shearer, what Simpsons character was modeled after Ted Koppel?◼[1] Kent Brockman (en.wikipedia.org)\n",
      "\n",
      "Kent Brockman is a fictional character in the animated television series The Simpsons. He is voiced by Harry Shearer and first appeared in the episode \"Krusty Gets Busted\". He is a grumpy, self-centered local Springfield news anchor.◼[2] Krusty the Clown (en.wikipedia.org)\n",
      "\n",
      "Krusty was created by cartoonist Matt Groening and partially inspired by Rusty Nails, a television clown from Groening's hometown of Portland, Oregon.◼ The Simpsons character that was possibly based on Ted Koppel is Kent Brockman.  He is a local news anchor in Springfield and is modeled after Ted Koppel. [1]\n",
      "SequenceClassifierOutput(loss=None, logits=tensor([[-0.4093]], device='cuda:0'), hidden_states=None, attentions=None)\n",
      "SequenceClassifierOutput(loss=None, logits=tensor([[0.1230]], device='cuda:0'), hidden_states=None, attentions=None)\n",
      "SequenceClassifierOutput(loss=None, logits=tensor([[-0.3003]], device='cuda:0'), hidden_states=None, attentions=None)\n"
     ]
    }
   ],
   "source": [
    "t_z = generating_dataset.data[0]\n",
    "# full_text<SEP>Title[0]\\n\\nExtract[0]<SEP>title[1]\\n\\nExtract[1]\n",
    "test_input = t_z[\"question\"][\"full_text\"]\n",
    "test_input += \"◼[1] \" + t_z[\"quotes_0\"][\"title\"][0] + \"\\n\\n\"\n",
    "test_input += t_z[\"quotes_0\"][\"extract\"][0] + \"◼[2] \" + t_z[\"quotes_0\"][\"title\"][1] + \"\\n\\n\"\n",
    "test_input += t_z[\"quotes_0\"][\"extract\"][1] + \"◼ \" + t_z[\"answer_0\"]\n",
    "print(test_input)\n",
    "input_tests = language_tokenizer(test_input, return_tensors=\"pt\").to(device)\n",
    "with torch.no_grad():\n",
    "  print(reward_model(**input_tests))\n",
    "  print(reward_model(**language_tokenizer(t_z[\"question\"][\"full_text\"] + \"[SEP] \" + t_z[\"answer_0\"], return_tensors=\"pt\").to(device)))\n",
    "  print(reward_model(**language_tokenizer(t_z[\"question\"][\"full_text\"] + \"[SEP] \" + t_z[\"answer_1\"], return_tensors=\"pt\").to(device)))"
   ]
  },
  {
   "cell_type": "code",
   "execution_count": 90,
   "metadata": {},
   "outputs": [
    {
     "data": {
      "text/plain": [
       "0"
      ]
     },
     "execution_count": 90,
     "metadata": {},
     "output_type": "execute_result"
    }
   ],
   "source": [
    "torch.cuda.current_device()"
   ]
  },
  {
   "cell_type": "code",
   "execution_count": 87,
   "metadata": {},
   "outputs": [],
   "source": [
    "# finetuning code\n",
    "def process_batch_inputs(model, tokenizer=None, examples=None, max_length=512):\n",
    "    \"\"\"\n",
    "    Process a batch of examples and return the logits of the model\n",
    "\n",
    "    Args:\n",
    "      model: the model to use\n",
    "      tokenizer: the tokenizer to use\n",
    "      examples: a list of examples to process\n",
    "      max_length: the max length of the examples\n",
    "\n",
    "    Returns:\n",
    "      the logits of the model: a tensor of shape (batch_size, max_length)\n",
    "    \"\"\"\n",
    "    assert examples != None, \"examples cannot be None\"\n",
    "    if tokenizer != None:\n",
    "      examples = tokenizer(examples, padding=True, truncation=True, max_length=max_length, return_tensors='pt')\n",
    "    with torch.no_grad():\n",
    "      score = model(**examples).logits.detach().flatten()\n",
    "    print(\"processed one batch\")\n",
    "    return score\n",
    "\n",
    "# def collate_webgpt_fn(prompt, completion, ):\n",
    "#     \"\"\"\n",
    "#     A function that takes the webgpt\n",
    "#     \"\"\"\n",
    "#     return prompt + \"[SEP]\" + completion[]\n",
    "\n",
    "\n",
    "@find_executable_batch_size(starting_batch_size=512)\n",
    "def score_completions(batch_size):\n",
    "    \"\"\"\n",
    "    Process a batch of examples and return the logits of the model.\n",
    "    Automatically finds the batch size that fits on the GPU.\n",
    "\n",
    "    Args:\n",
    "      model: the model to use\n",
    "      tokenizer: the tokenizer to use\n",
    "      examples: a list of examples to process\n",
    "      max_length: the max length of the examples\n",
    "\n",
    "    Returns:\n",
    "      the logits of the model: a tensor of shape (batch_size, max_length)\n",
    "    \"\"\"\n",
    "    generating_dataset = DataLoader(WebgptComparisons(\"train\"), shuffle=False, batch_size=batch_size)\n",
    "    print(f\"generating with batch_size {batch_size}...\")\n",
    "    scores = []\n",
    "    for batch in generating_dataset:\n",
    "        print(batch[\"completions\"][0][0])\n",
    "        # scores.append(batch[\"scores\"])\n",
    "        scores.append(reward_model(**batch[\"answer\"]))\n",
    "        # scores.append(process_batch_inputs(reward_model, tokenizer=language_tokenizer, examples=))\n",
    "        break\n",
    "    return scores\n",
    "        "
   ]
  },
  {
   "cell_type": "code",
   "execution_count": 88,
   "metadata": {},
   "outputs": [
    {
     "name": "stderr",
     "output_type": "stream",
     "text": [
      "Found cached dataset webgpt_comparisons (/sailhome/pchatain/.cache/huggingface/datasets/openai___webgpt_comparisons/default/0.0.0/8b5d5879cdc98c4c0099af6053dffe8d504588d43d3b11f1b1ec223ab1e8db0a)\n"
     ]
    },
    {
     "data": {
      "application/vnd.jupyter.widget-view+json": {
       "model_id": "ae64f9d13e9a453fa37c042331463311",
       "version_major": 2,
       "version_minor": 0
      },
      "text/plain": [
       "  0%|          | 0/1 [00:00<?, ?it/s]"
      ]
     },
     "metadata": {},
     "output_type": "display_data"
    },
    {
     "name": "stdout",
     "output_type": "stream",
     "text": [
      "generating with batch_size 512...\n",
      "The Simpsons character that was possibly based on Ted Koppel is Kent Brockman.  He is a local news anchor in Springfield and is modeled after Ted Koppel. [1]\n"
     ]
    },
    {
     "data": {
      "text/plain": [
       "[[tensor([ 1.0000,  0.0000,  0.5000,  0.0000,  0.0000,  0.0000,  1.0000,  0.0000,\n",
       "           0.3333,  1.0000,  0.0000,  0.5000,  0.0000,  1.0000,  0.0000,  0.0000,\n",
       "           1.0000,  1.0000,  0.5000, -0.5000, -1.0000,  0.0000,  1.0000, -1.0000,\n",
       "          -0.5000, -0.5000,  1.0000, -0.5000, -0.5000,  0.0000, -1.0000,  0.0000,\n",
       "           0.0000,  0.5000,  0.0000,  1.0000,  0.0000,  1.0000, -0.5000,  1.0000,\n",
       "          -0.5000,  0.0000, -0.5000,  1.0000,  1.0000,  0.3333,  0.5000,  0.5000,\n",
       "           0.0000, -0.5000, -1.0000,  0.0000, -0.5000, -1.0000,  0.0000,  1.0000,\n",
       "          -1.0000,  1.0000,  0.0000,  0.0000, -1.0000,  0.0000,  0.0000,  0.0000,\n",
       "           0.0000,  0.5000,  0.5000, -0.5000,  0.0000,  0.0000,  0.5000, -0.5000,\n",
       "           0.5000,  0.6667,  0.6667,  0.0000,  0.5000, -0.5000,  0.0000, -0.3333,\n",
       "           0.5000,  0.0000,  0.5000,  0.0000,  0.5000, -1.0000,  0.5000, -0.5000,\n",
       "           0.0000,  0.3333,  1.0000,  1.0000, -0.5000, -0.5000,  1.0000, -0.6667,\n",
       "           0.0000,  0.0000, -0.5000,  0.0000,  0.5000,  1.0000, -0.5000,  0.5000,\n",
       "          -1.0000, -0.5000,  0.0000, -0.6667,  0.0000,  0.0000, -0.6667,  0.5000,\n",
       "          -0.6667, -1.0000,  1.0000,  0.0000, -0.5000, -0.5000,  1.0000,  0.0000,\n",
       "          -0.5000,  0.0000,  0.0000,  0.0000,  0.5000, -0.5000,  0.0000,  1.0000,\n",
       "           0.0000,  1.0000,  0.0000,  0.0000,  0.0000,  0.0000,  1.0000, -1.0000,\n",
       "           0.0000, -0.5000,  0.0000, -0.5000, -1.0000,  1.0000, -1.0000,  0.0000,\n",
       "           1.0000,  0.5000, -1.0000, -0.5000, -0.5000,  0.0000,  0.0000,  0.0000,\n",
       "           0.0000,  0.0000,  0.0000,  0.0000,  0.0000, -0.5000,  0.0000, -0.3333,\n",
       "          -1.0000,  0.0000, -0.5000,  1.0000, -0.3333,  0.5000,  0.0000, -0.5000,\n",
       "           1.0000,  0.0000, -1.0000,  0.5000,  0.5000,  0.5000, -1.0000,  0.5000,\n",
       "           0.0000,  0.0000,  0.5000, -0.6667, -0.5000,  0.5000,  0.0000,  0.0000,\n",
       "           0.0000,  0.0000,  0.0000,  0.5000,  0.0000, -0.5000, -1.0000,  0.0000,\n",
       "          -0.5000, -1.0000,  0.5000,  1.0000,  0.5000, -1.0000, -1.0000,  0.5000,\n",
       "           0.0000,  1.0000,  0.5000,  0.5000,  0.5000, -0.5000,  1.0000, -0.5000,\n",
       "          -1.0000, -0.3333,  0.5000,  0.5000,  0.5000,  0.5000,  0.5000,  0.0000,\n",
       "          -1.0000,  0.0000,  0.0000, -1.0000,  0.5000,  0.0000,  0.5000,  1.0000,\n",
       "           0.3333,  1.0000,  1.0000, -0.5000,  1.0000, -0.5000,  0.0000,  0.0000,\n",
       "           0.0000,  0.0000, -1.0000,  0.5000,  1.0000, -0.5000,  0.6667,  0.0000,\n",
       "           0.5000, -1.0000,  0.0000,  0.0000, -0.5000,  0.0000,  0.0000,  0.3333,\n",
       "           0.0000,  0.5000,  0.0000,  0.0000,  1.0000,  0.0000,  0.0000,  0.0000,\n",
       "           0.5000,  0.3333, -0.5000,  1.0000,  0.0000,  1.0000,  0.5000,  1.0000,\n",
       "          -1.0000,  0.0000,  1.0000, -1.0000,  0.5000,  0.0000,  0.5000,  0.0000,\n",
       "           1.0000,  1.0000,  0.0000, -0.5000,  0.5000,  0.5000,  0.5000, -0.5000,\n",
       "           0.0000,  0.0000,  0.5000,  0.0000,  0.0000, -1.0000,  0.5000,  0.0000,\n",
       "           0.0000,  1.0000,  1.0000,  0.0000, -0.5000, -1.0000,  1.0000,  0.5000,\n",
       "          -0.5000,  0.0000,  0.0000,  0.0000,  0.0000,  0.0000, -0.5000, -0.5000,\n",
       "          -1.0000, -0.5000, -0.5000, -0.5000, -0.5000,  0.5000, -0.5000,  0.5000,\n",
       "           0.0000,  0.0000, -0.5000, -0.5000,  0.5000,  0.5000, -0.5000,  0.5000,\n",
       "           0.5000,  0.5000, -0.5000,  0.0000,  0.5000, -0.5000, -0.5000, -0.5000,\n",
       "           0.5000, -1.0000,  1.0000, -0.5000,  0.5000,  0.5000,  0.0000,  0.5000,\n",
       "          -0.5000,  0.0000, -1.0000,  0.0000,  0.0000,  0.5000,  0.0000,  0.5000,\n",
       "          -0.5000,  0.5000, -0.5000,  0.5000,  0.0000, -0.5000,  1.0000,  0.5000,\n",
       "           0.0000,  0.5000, -0.5000,  0.0000,  0.5000, -1.0000,  0.5000, -0.5000,\n",
       "          -0.5000, -0.5000,  0.0000, -0.5000,  0.0000,  0.5000,  0.5000,  1.0000,\n",
       "           0.5000,  0.0000,  0.0000,  0.0000,  0.5000,  0.0000,  0.0000,  0.0000,\n",
       "           0.0000,  0.0000,  0.5000,  0.0000,  0.5000,  0.5000, -0.5000, -0.5000,\n",
       "           0.5000,  0.5000, -0.5000,  0.5000, -0.5000,  1.0000,  0.0000,  0.5000,\n",
       "          -1.0000,  0.5000, -0.5000,  0.0000, -0.5000,  0.0000,  0.0000, -0.5000,\n",
       "           0.0000,  0.0000,  0.3333, -0.5000, -0.5000,  0.0000, -0.5000,  0.0000,\n",
       "           0.0000,  0.5000,  0.5000,  0.0000,  0.0000,  0.0000, -0.5000,  0.0000,\n",
       "          -0.5000,  0.0000,  0.0000,  0.5000, -0.5000,  0.5000,  0.0000,  1.0000,\n",
       "           0.0000,  0.5000, -0.5000, -0.5000,  0.5000,  0.0000,  0.5000,  0.0000,\n",
       "           0.5000,  0.0000,  0.5000,  0.5000,  0.5000, -0.5000,  0.0000,  1.0000,\n",
       "           0.5000, -0.5000,  0.5000,  0.5000, -0.5000, -0.5000, -0.5000, -0.5000,\n",
       "           0.5000,  0.0000, -1.0000,  0.5000, -0.5000, -0.5000,  0.5000, -0.5000,\n",
       "          -0.5000,  0.0000,  0.0000,  0.0000, -0.5000,  0.5000, -0.5000,  0.5000,\n",
       "           0.5000,  0.5000, -0.5000, -1.0000, -0.5000,  1.0000,  0.5000,  0.0000,\n",
       "           1.0000,  0.5000,  0.5000, -0.5000,  0.5000,  0.5000,  0.5000,  0.5000,\n",
       "           0.0000,  0.5000,  0.5000, -0.5000, -0.5000,  0.0000,  0.5000,  0.0000,\n",
       "           0.5000,  0.5000, -0.5000, -0.5000, -0.5000,  0.0000, -0.5000, -0.5000,\n",
       "           0.0000, -0.5000, -0.5000,  0.0000, -1.0000,  0.5000, -0.5000,  0.5000,\n",
       "           0.5000, -0.5000,  0.5000,  0.0000,  0.5000, -0.5000,  0.5000,  0.5000],\n",
       "         dtype=torch.float64),\n",
       "  tensor([-1.0000,  0.0000, -0.5000,  0.0000,  0.0000,  0.0000, -1.0000,  0.0000,\n",
       "          -0.3333, -1.0000,  0.0000, -0.5000,  0.0000, -1.0000,  0.0000,  0.0000,\n",
       "          -1.0000, -1.0000, -0.5000,  0.5000,  1.0000,  0.0000, -1.0000,  1.0000,\n",
       "           0.5000,  0.5000, -1.0000,  0.5000,  0.5000,  0.0000,  1.0000,  0.0000,\n",
       "           0.0000, -0.5000,  0.0000, -1.0000,  0.0000, -1.0000,  0.5000, -1.0000,\n",
       "           0.5000,  0.0000,  0.5000, -1.0000, -1.0000, -0.3333, -0.5000, -0.5000,\n",
       "           0.0000,  0.5000,  1.0000,  0.0000,  0.5000,  1.0000,  0.0000, -1.0000,\n",
       "           1.0000, -1.0000,  0.0000,  0.0000,  1.0000,  0.0000,  0.0000,  0.0000,\n",
       "           0.0000, -0.5000, -0.5000,  0.5000,  0.0000,  0.0000, -0.5000,  0.5000,\n",
       "          -0.5000, -0.6667, -0.6667,  0.0000, -0.5000,  0.5000,  0.0000,  0.3333,\n",
       "          -0.5000,  0.0000, -0.5000,  0.0000, -0.5000,  1.0000, -0.5000,  0.5000,\n",
       "           0.0000, -0.3333, -1.0000, -1.0000,  0.5000,  0.5000, -1.0000,  0.6667,\n",
       "           0.0000,  0.0000,  0.5000,  0.0000, -0.5000, -1.0000,  0.5000, -0.5000,\n",
       "           1.0000,  0.5000,  0.0000,  0.6667,  0.0000,  0.0000,  0.6667, -0.5000,\n",
       "           0.6667,  1.0000, -1.0000,  0.0000,  0.5000,  0.5000, -1.0000,  0.0000,\n",
       "           0.5000,  0.0000,  0.0000,  0.0000, -0.5000,  0.5000,  0.0000, -1.0000,\n",
       "           0.0000, -1.0000,  0.0000,  0.0000,  0.0000,  0.0000, -1.0000,  1.0000,\n",
       "           0.0000,  0.5000,  0.0000,  0.5000,  1.0000, -1.0000,  1.0000,  0.0000,\n",
       "          -1.0000, -0.5000,  1.0000,  0.5000,  0.5000,  0.0000,  0.0000,  0.0000,\n",
       "           0.0000,  0.0000,  0.0000,  0.0000,  0.0000,  0.5000,  0.0000,  0.3333,\n",
       "           1.0000,  0.0000,  0.5000, -1.0000,  0.3333, -0.5000,  0.0000,  0.5000,\n",
       "          -1.0000,  0.0000,  1.0000, -0.5000, -0.5000, -0.5000,  1.0000, -0.5000,\n",
       "           0.0000,  0.0000, -0.5000,  0.6667,  0.5000, -0.5000,  0.0000,  0.0000,\n",
       "           0.0000,  0.0000,  0.0000, -0.5000,  0.0000,  0.5000,  1.0000,  0.0000,\n",
       "           0.5000,  1.0000, -0.5000, -1.0000, -0.5000,  1.0000,  1.0000, -0.5000,\n",
       "           0.0000, -1.0000, -0.5000, -0.5000, -0.5000,  0.5000, -1.0000,  0.5000,\n",
       "           1.0000,  0.3333, -0.5000, -0.5000, -0.5000, -0.5000, -0.5000,  0.0000,\n",
       "           1.0000,  0.0000,  0.0000,  1.0000, -0.5000,  0.0000, -0.5000, -1.0000,\n",
       "          -0.3333, -1.0000, -1.0000,  0.5000, -1.0000,  0.5000,  0.0000,  0.0000,\n",
       "           0.0000,  0.0000,  1.0000, -0.5000, -1.0000,  0.5000, -0.6667,  0.0000,\n",
       "          -0.5000,  1.0000,  0.0000,  0.0000,  0.5000,  0.0000,  0.0000, -0.3333,\n",
       "           0.0000, -0.5000,  0.0000,  0.0000, -1.0000,  0.0000,  0.0000,  0.0000,\n",
       "          -0.5000, -0.3333,  0.5000, -1.0000,  0.0000, -1.0000, -0.5000, -1.0000,\n",
       "           1.0000,  0.0000, -1.0000,  1.0000, -0.5000,  0.0000, -0.5000,  0.0000,\n",
       "          -1.0000, -1.0000,  0.0000,  0.5000, -0.5000, -0.5000, -0.5000,  0.5000,\n",
       "           0.0000,  0.0000, -0.5000,  0.0000,  0.0000,  1.0000, -0.5000,  0.0000,\n",
       "           0.0000, -1.0000, -1.0000,  0.0000,  0.5000,  1.0000, -1.0000, -0.5000,\n",
       "           0.5000,  0.0000,  0.0000,  0.0000,  0.0000,  0.0000,  0.5000,  0.5000,\n",
       "           1.0000,  0.5000,  0.5000,  0.5000,  0.5000, -0.5000,  0.5000, -0.5000,\n",
       "           0.0000,  0.0000,  0.5000,  0.5000, -0.5000, -0.5000,  0.5000, -0.5000,\n",
       "          -0.5000, -0.5000,  0.5000,  0.0000, -0.5000,  0.5000,  0.5000,  0.5000,\n",
       "          -0.5000,  1.0000, -1.0000,  0.5000, -0.5000, -0.5000,  0.0000, -0.5000,\n",
       "           0.5000,  0.0000,  1.0000,  0.0000,  0.0000, -0.5000,  0.0000, -0.5000,\n",
       "           0.5000, -0.5000,  0.5000, -0.5000,  0.0000,  0.5000, -1.0000, -0.5000,\n",
       "           0.0000, -0.5000,  0.5000,  0.0000, -0.5000,  1.0000, -0.5000,  0.5000,\n",
       "           0.5000,  0.5000,  0.0000,  0.5000,  0.0000, -0.5000, -0.5000, -1.0000,\n",
       "          -0.5000,  0.0000,  0.0000,  0.0000, -0.5000,  0.0000,  0.0000,  0.0000,\n",
       "           0.0000,  0.0000, -0.5000,  0.0000, -0.5000, -0.5000,  0.5000,  0.5000,\n",
       "          -0.5000, -0.5000,  0.5000, -0.5000,  0.5000, -1.0000,  0.0000, -0.5000,\n",
       "           1.0000, -0.5000,  0.5000,  0.0000,  0.5000,  0.0000,  0.0000,  0.5000,\n",
       "           0.0000,  0.0000, -0.3333,  0.5000,  0.5000,  0.0000,  0.5000,  0.0000,\n",
       "           0.0000, -0.5000, -0.5000,  0.0000,  0.0000,  0.0000,  0.5000,  0.0000,\n",
       "           0.5000,  0.0000,  0.0000, -0.5000,  0.5000, -0.5000,  0.0000, -1.0000,\n",
       "           0.0000, -0.5000,  0.5000,  0.5000, -0.5000,  0.0000, -0.5000,  0.0000,\n",
       "          -0.5000,  0.0000, -0.5000, -0.5000, -0.5000,  0.5000,  0.0000, -1.0000,\n",
       "          -0.5000,  0.5000, -0.5000, -0.5000,  0.5000,  0.5000,  0.5000,  0.5000,\n",
       "          -0.5000,  0.0000,  1.0000, -0.5000,  0.5000,  0.5000, -0.5000,  0.5000,\n",
       "           0.5000,  0.0000,  0.0000,  0.0000,  0.5000, -0.5000,  0.5000, -0.5000,\n",
       "          -0.5000, -0.5000,  0.5000,  1.0000,  0.5000, -1.0000, -0.5000,  0.0000,\n",
       "          -1.0000, -0.5000, -0.5000,  0.5000, -0.5000, -0.5000, -0.5000, -0.5000,\n",
       "           0.0000, -0.5000, -0.5000,  0.5000,  0.5000,  0.0000, -0.5000,  0.0000,\n",
       "          -0.5000, -0.5000,  0.5000,  0.5000,  0.5000,  0.0000,  0.5000,  0.5000,\n",
       "           0.0000,  0.5000,  0.5000,  0.0000,  1.0000, -0.5000,  0.5000, -0.5000,\n",
       "          -0.5000,  0.5000, -0.5000,  0.0000, -0.5000,  0.5000, -0.5000, -0.5000],\n",
       "         dtype=torch.float64)]]"
      ]
     },
     "execution_count": 88,
     "metadata": {},
     "output_type": "execute_result"
    }
   ],
   "source": [
    "score_completions()"
   ]
  },
  {
   "cell_type": "code",
   "execution_count": null,
   "metadata": {},
   "outputs": [
    {
     "name": "stderr",
     "output_type": "stream",
     "text": [
      "Found cached dataset summarize_from_feedback (/sailhome/pchatain/.cache/huggingface/datasets/openai___summarize_from_feedback/comparisons/0.0.0/483f970ceb55b926b0a087ef4f678ab1b089bc8174a107a452c6152e88af7ff0)\n"
     ]
    },
    {
     "data": {
      "application/vnd.jupyter.widget-view+json": {
       "model_id": "caa02e9cf4d94004bda3d1cc80971c95",
       "version_major": 2,
       "version_minor": 0
      },
      "text/plain": [
       "  0%|          | 0/2 [00:00<?, ?it/s]"
      ]
     },
     "metadata": {},
     "output_type": "display_data"
    },
    {
     "name": "stdout",
     "output_type": "stream",
     "text": [
      "generating\n",
      "{'prompt': [\"Hi r/relationships, I could use some advice.\\n\\nMy partner and I have been together around 9 months. We used to post to r/gonewild a lot, both together and just as her. It never bothered me that she received messages and replied to them and flirted with other men because it was open and there was no deceit.\\n\\nI recently found out that she has been sending messages to some of her 'fans' from another Reddit account that I don't have access too (found out as she left it logged in on my iPad), specifically so I can't see the messages - she says that in her messages.\\n\\nThere is one person in particular who she talks to a lot, most days. As far as I saw there was nothing very sexual in her messages (just him complementing her on her r/gonewild posts), but they were very affectionate toward each other. He would say how he hoped they could be together one day, how much he misses her, she said that he's one of the few people that she feels she can talk to and feels comfortable with.\\n\\nFor full disclosure, we had a problem a few months back that I was chatting explicitly to other women via social media and it almost caused the end of our relationship. I'm not proud of it, and I'm doing everything I can to make it right.\\n\\nSo what do I do? I haven't confronted her as she's more than entitled to have a friend I don't know about and speak to them in confidence. Should I be worried? Maybe she's trying to get back at me?\\n\\nLet me know what you think. Thank you for reading.\", 'I was at Subway a while back, and while I was thinking of what to get, the guy ahead of us was paying. There was some sort of deal of buying one type of sub, get another free. He had a coupon too, but the clerk denied the coupon because there was an ambiguity with whether or not the coupon was allowed with other deals. At this time, the subs were already made, he was paying, but not for both. The customer decided to only pay for one, and asked for the other free since it was made and the clerk had to throw it away. The clerk denied it. This argument went on for a while and ended up in the clerk just eating the sub in front of the customer.', \"I guess I don't know how to ask this exactly because I don't know *exactly* how to classify thought.\\n\\nBut I suppose I mean this:\\n\\nWhat is the most close a computer has ever come to reasoning?  I'm not talking about data checks based on programmed algorithms, but actually creating a new algorithm or process that was never programmed into it?\\n\\nI suppose the ability to actually learn something is in question?  has it ever happened?  I don't mean programmed adaptation, like in the case of some machines that pick up certain patterns they were programmed to look for, but actual new things being done by the computer?\\n\\nhas anything even close to this EVER happened? or is it only in sci-fi currently?\", \"Hey there Reddit,\\n\\nHere's the deal. I've been living in an apartment for a about a year now. For the last 2 months or so, my upstairs neighbours (who I've never met) have had a dog living with them who occasionally goes outside onto their balcony (directly above mine) and pees. Our balcony floors are wooden slats, so some of it drips though onto mine.\\n\\nI'm not sure if it happens all the time because I work full time, but I think it might because sometimes I come home and their are very small puddles of liquid (which I'd presumed to be water) on my balcony, even if it hasn't rained. This being the case I think that they may have trained the dog to pee outside without really considering (or caring) that they've essentially trained their dog to pee on me.\\n\\nObviously this is not the greatest of situations, and I want to send them a note or contact them in some way so that it can stop. The only problem is that I don't really know how to approach it. I want to be firm and be clear that it's unacceptable, but also not come off as a busy body or too aggressive given that I've never even spoken to them before.\\n\\nHowever, there is one slight problem. My housemates and I have cats. They are both fully house trained (they only ever do their business in their litter) and are never allowed outside onto the balcony without one of us present. Our building doesn't allow pets, but our actual landlord said he didn't mind us getting some before we got the cats. I just want to be careful that I don't piss off the people living upstairs so that they don't rat us out for our cats and leave us so we have to get rid of them or move. I'm not even sure the people living upstair know we have cats since the cats are rarely outside, and we rarely see our neighbours outside either.\", 'So now that I am about to finish high school in the Austrian School in Guatemala (central america) I really want to study medicine and become a doctor and help my country in the future. Many of my friends already study in europe but none of them studies medicine. The only thing I know is that to study medicine there I need to take exams, wich is not a requisite for any other carrer, just medicine. I have some universities in mind, and I would love to know if there is any fellow redditor that could give me some advice, or that knows someone who could give me some tips in order to increase my chances to get accepted, because I have heard it is tough competition. \\nAlso maybe someone who has already taken the same path I am about to take that could give some advice on how to enroll myself there.', \"Ladies,\\n\\nI need advice/opinions from you all.\\n\\nI am 24 years old. I've never had problems with relationships before and I'm a pretty good boyfriend when dating. \\nHowever, I haven't dated anyone in 3 years because during my last relationship when I was 20, I suffered penile trauma and my sex life changed dramatically since then. I tore a ligament that suspends your erect penis and there is no cure or medical procedure. The injury and subsequent effects caused me to have a lot of resentment with the girl I was dating and we broke up. \\n\\nNow I am having troubles keeping an erection, especially the second erection after initial intercourse, and I don't last that long anymore. After ejaculating once, I usually can't get much of an erection for quite a few hours. This is due to plaque build up due to my injury and a restriction of blood flow to my penis. My doctor has recommended that I don't go on ED meds because I'm so young. Also, if I have sex too much, I have a lot of pain in my penis. \\n\\nHowever, I love going down on a woman and would gladly do that multiple times a day if it keeps her happy. I also would be open to everything in the bedroom to make up for what I may not be able to provide. \\n\\nBasically- I'm struggling as to whether I can even be in a relationship or not. I really want to start dating and to have a special someone if my life, but I don't know if I can provide the sexual side of a relationship anymore. If I am to meet someone, when is the appropriate time to tell her something like this? It's obviously a very personal thing and could alter her desire to be in a relationship with me, but it's not something I can keep a secret as it affects my sexual abilities a lot. \\n\\nI'm not looking for medical advice. I just want your personal opinions on relationship prospects. What if a guy were to tell you this? What would your reactions be?\", 'So here\\'s the thing. While living in Ireland and attending an Irish secondary school, there is no bigger stigma than being someone who is \\'a frigdit\\' i.e someone who has never kissed (or in ireland, \\'shifted\\') someone. After being very socially awkward, lacking in confidence and being self-conscious, it is only now at age 16 that I\\'m beginning to come out of my shell and actually talk to girls. After asking a few girls whom I liked over the past few months for, \\'the shift\\', I have been met with rejection each time. Keeping \"beggars can\\'t be choosers\" in mind, I decided to lower my standards a bit to a girl that I\\'m almost certain I have a chance with, however do not really have feelings for. So after the past week of chatting to her, trying to work something out, I have been thinking, what do I do afterwards? I have no real intention of continuing in a relationship with this girl after the shift, but due to my lack of experience, I have no idea what to do. Any help would be much appreciated.', \"I was in an amazing relationship with the man of my dreams for six years. Within two years of dating, he started talking about getting married one day, but I said that I wanted to finish our degrees, first. Starting about a year ago, in our final year of our undergrad degrees, he was telling our mutual friends that he was going to start saving for an engagement ring. This continued right through the summer. \\n\\nThis September, we both began graduate programs and started to see one another less than we had before. In December, he broke up with me. Nothing big happened to cause the breakup aside from drifting apart a bit (which I felt was natural given our grad programs); I think that he just didn't know what he wanted in life. I really don't think it's about other people--we've been broken up for two months and neither one of us has rebounded or expresses any interest in doing so. I still love him with all my heart, and I think that we both feel that we have unfinished business. We speak on a regular basis and are both on the same page: we love one another, we're *in* love, we're sexually compatible, and we hope to be together again one day.\\n\\nWhat could cause someone to cause to get cold feet/change their mind enough to go from wanting to propose to wanting to break up? Has this happened to any of you? \\n\\nI'd respectfully ask that everyone refrains from ex-bashing on this thread. I've absolutely taken all of the worst-case scenarios into consideration, but that's not what this thread is about. Thanks!\", \"Hi guys. I've been reading a lot of the posts on this page and there seems to be a lot of sound advice on here. I've been trying to formulate a plan to get rid of my debt but I'm struggling. \\n\\nWhen I was 18 I got myself an overdraft. This is the biggest regret I've ever had. I don't have a job at the moment (though I am looking). I'm on summer break from university and so won't get my next student loan installment until September/October. \\n\\nI have two overdrafts, the first and most critical is at a £2000 limit which I'm £8 away from. I'm paying about £30 interest and charges to LloydsTSB. The second is a student overdraft with a £1200 limit. I get £81 Disability Living Allowance every month and this is my only source of income until I can get a job. I'm getting increasingly scared of what's going to happen to me if I don't sort this out. I wish I had a good reason for getting into debt this much but there isn't one. I just really need to get out of the debt and I hope that you guys can share some wisdom.\", \"I have had this happen a couple of times now, the most recent was yesterday.\\n\\nMe and some friends we're clubbing and we have had some drinks. It was about 11pm when I noticed the cute girl from some of the classes I take walk inside, she's a solid 7/10. I am pretty comfortable talking with people in general, even if they're girls I don't (really) know. So I made a small talk with her and within about 15 minutes we shared a kiss, then another and we ended up  being with each other for most of the time yesterday night.\\n\\nI then brought her home, had another kiss and then I went home myself. I told her I would text her but I don't really feel the urge to text her now, I had fun yesterday but I don't like, like her anymore. This has happened about 3 times last month or so. Any advice, thoughts etc. ?\", \"I'm 21 and Male and my friends will not stop smoking indoors around me. Obviously I'm a nonsmoker, but they are basically chimneys. their smoking habit has gotten out of control. They smoke at lease 5 cigs or more everyday. And they refuse to do it outside.\\n\\nI've tried asking my friends multiple times to at least smoke out into the windows. but they don't even do that correctly, they hold the ciggerette inside and the very crudely blow out the windows. When I do try and tell them that they are still pretty much smoking inside, they get angry at me and stop smoking out the windows all together and start smoking inside again. \\n\\nThey are really my best friends that I have known for almost 10 years now. I don't want to start avoiding them because of this, but nor do I want to expose my self to any more smoke. every time I go see them I get a headache from the smoke, my clothes reek of smoke, and my stuff (phone, bag, wallet, etc) also end up reeking of smoke. I'm pretty sure I've inhaled so much smoke that I'm practically a smoker myself. I'm really sick of this but I don't know how to deal with their addiction. \\n\\nCan a smoker or former smoker who has experience in this tell me what to do?\", 'I\\'m currently a freshman, and haven\\'t spent a single sober weekend without going to parties friday/saturday and have made tons of friends through them. I always end up meeting women and talking to them, but i always hit the wall, where i can\\'t think of anything more to talk about, and we just sort of stand there awkwardly until we slowly move away from each other. My friends always find some kind of common ground with the girls they meet at parties, but my interests are a bit....odd with the crowds that go to the house parties. For example, my hobbies include things like audio hardware/android software and hardware/more experimental or \"hipster\" music(oneohtrix point never or animal collective to name some of the more popular artists i listen to). Do you guys have any good general questions that could keep a conversation going? or any comments i should drop in to give a \"clue\" of what im trying to go for? thanks in advance for the answers!', \"I'm an American grad student studying in England and met my boyfriend at university. He's a rather proper English boy from a really nice (i.e., wealth) part of England. We're friends, etc. Fast forward a couple months and I meet the parents for dinner at a restaurant near our university. I got the feeling they don't really approve of me because I'm American and my boyfriend did not give me sound dressing advice for this meal (his mum was in a dress with a diamond necklace, and I was wearing jeans and a sweater) and dinner was really awkward. \\n\\nWell, about two months after this disaster, I'm spending the weekend at their place in Winchester. My boyfriend's older brother and his older brother's girlfriend are joining us as well. We are going to lunch at a really nice restaurant in the area on Sunday and I have no idea what to bring for the weekend. I suspect the weekend will be rather casual, but I don't know what to pack. Additionally, I have no idea where to sleep! My boyfriend's bed or the guest room, knowing that his older brother and his older brother's girlfriend are sharing a bed...? His mum is super Catholic.\\n\\nCurrently, for the parent's gift, I have a bag of coffee, French truffles, and a lemon drizzle (is this enough?). Could use advice and packing help!\", \"he beat the shit out of me and now he says he doesn't want me anymore after a year of being together. He claims it was my fault that I made him so mad and refuse to leave his place after he told me to leave.\\n\\nHe continually slapped punched pushed and dragged me across the floor.\\n\\nNow all I feel is the pain of him leaving me. I love him so much. I just cant believe the monster that he has become and now he is leaving me. How do I deal with the pain of betrayal Reddit? How do I connivence myself beating me wasnt my fault as he says.\", \"So long story short, we rescued a dog last year in Baltimore during the polar vortex. BF thinks its unimportant to emphasize the polar vortex part, but I disagree. It was -6 degrees the day he was found tied to a tree in Baltimore City (where we live.) He was out there a few hours when a kind neighbor found him and took him in. \\n\\nWe met him and I fell in love immediately. This dog has my freaking heart. He's chewed up sentimental items, expensive shoes, remotes, you name it. I still love him and wouldn't trade him for the world.\\n\\nWhich is why I am at my wits end. It's not his chewing or puppy like tendencies. It's the fact that I don't know how to make him feel better. He's as sweet as can be but [has an awful skin problem.]( We have tried expensive diets, grain free, beef, poultry and grain free. We've changed his bedding. We've washed everything in allergen free detergent. He gets almost no treats because we don't know what it is. He's been on all types of deg medication. He takes 3-7 benadryl a day. He's been on anti-anxiety medication. He's no longer crated but he still is scratching incessantly until he bleeds, scabs and gets infected. \\n\\nHe is a really great dog, he is sweet as can be, to a fault. He rarely makes noise, he has no aggression despite his horrible upbringing. He's healthy other than this. But I just feel so awful and honestly, some days he looks like he's been through hell, despite almost a year with us. We bathe him, he has had all vaccinations. He gets monthly flea meds. Yet he still loses his hair and breaks out in red, hideous welts that he picks at and eats for hours. We stop him when we are home with a shirt and socks. But it still happens. \\n\\nI feel so bad for my pup, sometimes he could scratch for hours --- I say could because we will hold his paws and keep him from doing so.\", \"I have the feeling that I'm not interesting enough. I don't really have a passion for something. That makes me pretty depressed and self-consious. I don't have a lot of friends so a lot of the time I'm stuck with these feelings. I want to become more confident but I just can't... It's not that I'm a  big disaster or something. I had some passions in the past like drawing, stop-motion and LEGO. But now I'm in high school and I have a lot of homework and other stuff to think about... I don't know if anyone will read this but I just wanted to tell this in some way or another.\", \"For me it was when I was a young teen on holiday with my mum. We were on a long coach journey and I was half-asleep on her shoulder.\\n\\nA stranger came over and told her he'd noticed how bad my skin looked. Now at the time I had a little bit of acne and wasn't particularly bothered by it, my parents had told me it would go away eventually and that I shouldn't cover it up with makeup as it would make it worse. The stranger went on to recommend roaccutane and my mum got him to write it down for her. \\n\\nAll the while I was, at this point, pretending to be asleep and mortified with embarassment. It was like they had both agreed my face needed treatment and I felt miserable the whole trip and the memory has stayed with me ever since.\\n\\nLooking back on it, I know the man meant well and neither of them knew I was actually awake, but it still made me very aware of how other people must have looked at me.\", 'Hey r/PersonalFinance,\\n\\nI’m writing here to get some feedback on my financial plan for the next 10 years and my long-term financial goals. On top of that I’d like to ask whether there is anything more I could be doing, or anything I should be doing differently.\\n\\nSo I’m 22, and a fully payed off homeowner in the UK. Currently this home is being rented to 4 students and pulls in about £1500 a month in rental income. On top of this, I work a decent steady job, making £22500 a year before tax. I keep these 2 incomes separate, as my parents frequently need to use some or all of the rental income for the near future. My job income is how I live and all of my current savings are spent on flights to the US to see my girlfriend as often as possible.\\n\\nSo here is the plan; In the next 12 months I plan to move to the USA, this will be by marrying my girlfriend. Once there, I am fairly confident I can get a decent job that can provide for both of us (at that point I’d be a 1 year graduated software engineer). In the next 6 months I plan on buying a house where I work in the UK on a mortgage, living there until I move to the states then renting it out from there, using the rental income to pay off the mortgage, and whatever is left from the student rented property.\\n\\nEssentially, I’d like to earn my living through property eventually, and for the lifestyle I would like to live, this would mean probably making £150-£200k a year from it. In the meantime I’ll work a job to live and keep rolling property into more property until I have roughly 10 fully payed off. I’ll diversify location and size, but I plan on keeping them mostly in the UK.\\n\\nSo is there anything more or differently I could be doing? Does this sound responsible, or even feasible? Thanks for any replies!', \"Been with a girl I'm really into for about a month now. We have pretty good communication but everything still feels so new and fresh. We both probably have things about our past we haven't shared with one another yet. At what point (if ever) does it make sense to bring up stuff like this? In my case it was personal struggles with depression/body image/food issues, some unhealthy relationships in college, etc.\\n\\nI feel like it's part of who I was and may still be a part of who I am. And I care a lot about this girl. But I also don't want to be bummer of the year and bring everything down.\", \"Note: Throw away account as I know too many people on reddit.\\n\\nI found out in late 2013 that my last day is in June of this year.  At first I wasn't too worried as, at the time, I had a reasonable amount of time to figure out what to do.  Now that we are in the new year, it seems I need to start thinking about my available options.\\n\\nI'm getting a reasonable retention and severance if I stay until the very end.  My ultimate plan is to move to another state and work there. The retention / severance will greatly help with that moving expense.  However now I'm having second thoughts.\\n\\nI never finished college and gained all of my experience with this company, eventually becoming a project manager / coordinator.  I am now regretting not finishing college as I don't have much to base my resume on except my experience.  My skill set is customer service, specifically a call center environment.  We were a vendor for a rather large company in which I'll be attempting to apply to after this is over.\\n\\nRegardless, I'm posting because I want to know if anyone else has been in this position and how it played out for them.  On one hand I was thinking of looking for jobs now and try to get off the ship before it sinks and on the other hand the benefits of staying guarantee a nice package to part ways with.\", 'Even my mum and dad use it.\\n\\n\"What\\'s the matter, mum?\"\\n\"Ach, just cheesecake..\"\\n\\nSeriously, if I talk about it in public and use \\'cheesecake\\'  feel like everyone knows what I\\'m on about now \\'coz I\\'ve used it for so long.\\n\\nAnother one is a substitute for \\'shit\\' which me and the same mate made up. It was when we were 13 and she drew this wave on the sea, and I said it was shit and we both laughed. So because she hated swearing she\\'d say that\\'s \\'wave\\' for something shit. Then we were in Welsh class, and the teacher was going though phrases in welsh and wave came up. Wave was Ton in Welsh. So to this day, 5 years later, she still says \\'Oh ton!\\'\\nAhahaha!', 'So I\\'ve been spending time with a group of friends I stumbled into recently and as much fun as that is there\\'s quite a cute lady who hangs out with us and who\\'s taken my interest. We usually sit next to each other, though it\\'s neither of our choice exactly, and when we talk I definitely get an \"interested\" vibe.\\n\\nProblem is this is the only contact we have. We see each other once a week for two hours max. She always shows up late and leaves early so short of waiting around outside of our friend\\'s houses there\\'s no opportunity to get her alone. These are all open layout, everyone is right next to each other, homes. I can\\'t catch her alone by he fridge or outside of the bathroom, everyone can still see and hear us.\\n\\nSecond problem is she\\'s hooking up with a guy in our group. It\\'s nothing serious and I know she\\'s still available but come on you don\\'t just ask a girl out in front of her entire crowd of friends AND the dude she\\'s doing. It\\'s rude and I refuse to initiate a beef with a guy in this cool group of people. This pretty much leaves me with one option:\\n\\nEmail. It\\'s lame and it sucks but I don\\'t know what else to do. I just want to ask her out for coffee but I don\\'t have a phone number or anything, the only reason I even have her email is because we\\'re on our big group email for our hangout nights. There are never other events or nights out, let alone one where she would be there and let alone still without the guy she\\'s \"seeing.\" What do I even do here?', 'There have been many statements made suggesting the notion that the brain is capable of living on for approximately 7 minutes after your heart stops and you are pronounced \"dead\". Taking this theory into account, I have devised my own theory on the \"afterlife\" and what becomes of us when we die.\\n\\nDuring this seven minute period in which your brain is still living and your heart has stopped you would be in a lucid coma-like state and condemned to your thoughts and memories. Not necessarily knowing that you are on your way out, the old \"life flashing before your eyes\" phenomenon occurs.\\n\\nMy theory is that during this seven minute time frame, your conscience takes hold of your mind subliminally and depending on the way that you lived your life and what choices you made you either have a good or bad manifestation inside your head. Very similar to a nightmare, or the opposite, a \"good\" dream. If you have a clear and pure conscience and you have lived a wholesome life, your last 7 minutes will be manifested with everything you have ever desired (heaven). If you have lived an evil life, your manifestation will reflect as such. Simply put, you make your own hell. There is no divine intervention, no heavely father. None of that is real. You manifest your own destiny in that 7 minute window that your brain lives on. The best part is that if you manifest your \"heaven\" then everything you want is yours and you never have to wake up to find that you couldn\\'t keep the things you\\'ve found in your dreams. The worst part is if you\\'re braindead, you\\'re stuck. You become a lost soul. Condemned to wander aimlessly searching for your last dream forever.', \"I'm a guy.\\n\\nI really like the girl I am currently 'involved' with, but I am positive I only like her as a friend and nothing more. I tried to convince myself otherwise, but I can't anymore. \\n\\nI can tell she has really strong feelings for me and she is quite emotional about it even when I just don't reply to her texts quickly enough. I need to break this off but I don't want to hurt her feelings. \\n\\nI also have strong feelings for another girl who is a friend of mine, and an acquaintance of the girl I am currently 'seeing'. This is also a problem because even if I did manage to break off the original 'relationship', I wouldn't know how to go about striking up this new one without crushing the other girl. \\n\\nAny help would be absolutely marvellous, thank you in advance!\", 'This morning when my girlfriend  left for work left her facebook open. I  woke up an hour later and went to check my email on her computer. I realized her facebook was open and a open flirtatious message caught my eye. I have never snooped on her before but I could not help it based on the content of the message. This guy seems to be a old \"friends with benefits\". I read through the message history and there is a lot of flirting going on between the two (nothing to explicit). It is mainly initiated by him. \\n\\nThe message that stood out was that he was joking around that they should move in together (she is looking for a roomate) and that she should tell me that they are just roomates and not to tell me the little specifics. My girlfriend just reponded with a :) haha. The messages had no indication that they are meeting up or anything physical happening between them. Despite him initating most of the flirting, my girlfriend starts conversations with him in a flirtatious manner. She also mentions to him in the conversations that she is happy with me, that I am a good guy etc. and is not use to being in such a stable relationships. I know she has had some pretty shitty relationships in the past and compared to them I am pretty \"normal\"\\n\\nWe have been dating for just over a year, rarely fight and love eachother very much. I am not proud that I snooped on her open facebook but at the same time I feel like I need to confront her or I know it will eat away at me. Any adivice? I am really conflicted as what to do?', \"Sorry for the english it's not my primary language.\\n\\nSo i won't describe the relationship in details but i'm gonna tell you that we've had a wonderfull relationship but it just couldn't work in the end and she decided to break up with me. We've now been broken up for 5 months, she broke up with me at the end of the month of may. I decided to go no-contact for the whole summer(Was easier since i couldn't see her at school and all).\\n\\n At the end of the summer we both decided to meet and try to be friends. It really worked , we both connected on the same level as before , without any romantical relationship. It was great and i was glad i got the only person i trusted back and it's the same for her. But recently , she got a new boyfriend , which is one my friend , and it's kind of been hard on me. I still have feelings for her and she knows it. I've accepted the fact that we are not meant to be togheter and that me and her wouldnt work in a relationship anymore but i just can't stand the fact that she has a new boyfriend. I don't know if i should stay friends with her anymore because i need to forget her , but at the same time i'd lose my only true friend and she would lose hers. I talked to her about it and she started crying saying that she dosn't want to lose me as a friend and all. She's in my school bus and in my classes so it'd be kind of hard not being friends with her. It's also my last highschool year and after that we go to cegep(That's like college but in quebec it's called cegep) so i tought of maybe just suck it up until then and after that just , slowly stop talking to her. I just need help deciding if it's a good idea staying friends with her.\", \"My SO and I had been together for about a year and then went through a period of being together on and off. The main reason it has been like this (at least in my eyes) is her lack of independence from me and in her life. She has not held down a job for more than a month at a time, her parents  pay her rent and will give her rides when she asks, and she often fails to address medical and mental health issues that come up. \\n\\nSo at the beginning of the month we had a long conversation about all of this, and some of her friends shared similar concerns with her when she discussed our issues with them. She was eventually convinced by a female friend of hers to enter a few week long womens group and one on one therapy program. Her friend said that it really helped her get a grip and find her direction in life.\\n\\nJust before she began going to the program we talked again.  I said that what I think we really need right now is time apart and to limit the time we talk to each other as much as possible. I made it clear that I still care about her a lot but it's becoming increasingly frustrating to deal with her dependence on others and her inability to deal with lifes harsh realities. She was upset, but said she wants to do whatever she can to have a healthy relationship and also expressed a strong desire to get a hold over her life.\\n\\nSo my questions are: How can I be sure that she actually wants to and is going to make real lasting changes in her life? How can we use this period of separation constructively? How can we appropriately enter into a relationship again without jumping the gun?\", \"Next week I am going on a business trip for a whole week and it is the first time my boyfriend and I will be apart for so long. We have been dating for 3-4 years. Its hard leaving my significant other behind because a week is a very long time for us. Also I get anxiety and he keeps me sane and calm, so its gonna suck not having him there with me. I'm also gonna miss the affection and intimacy. I feel like I'll be sad and miserable on this trip, so, Is there anything we could do to make this eaiser on us? Any advice?\", \"My wife and I have been married for 3 years, and have shared a joint account during that time (before that, we had separate accounts but I used to transfer money to her to pay for shared expenses that she paid for). We are a single income family - I work and she doesn't.\\n\\nWe have shared financial goals and a shared budget which we both agreed on that includes a certain amount set aside for entertainment / clothes shopping purposes, and also a certain amount set aside for groceries.\\n\\nHowever, my wife really struggles to stick to our budget (for example, she blew it by over 10x last week), which makes saving slow and means any progress can be quickly wiped out. It also creates problems around the house - we have piles of clothes she has bought for herself all over the place, and no where to put them all (we have multiple baskets that normal households would use as washing baskets that are the permanent home of some of her clothes).\\n\\nWhen it comes to food, we go shopping together for groceries at a relatively inexpensive supermarket on the weekend, and she usually resists (to the point of making a scene) buying enough food - so she ends up going to more expensive supermarkets multiple times throughout the week while I'm at work and spending a small fortune (usually on expensive ready to foods like pre-sliced salmon and brand name products) that blows out our grocery budget.\\n\\nShe regularly commits to improving things, but it never seems to last, and sometimes she gets defensive and makes a scene / shouts at me for even raising the issue.\\n\\nHas anyone else been through a similar situation, and if so, how did you deal with it?\", 'Before the accusations of censorship go any further, we all have to acknowledge that downvotes are not the same thing as suppression of speech. Everything that was said in the AMA is still there, you can look it up and read it all you want. You may have to open some comments to be able to see them, but you *will* see them. No one has removed, blocked or otherwise prevented you from seeing them, and unless Coulter deletes them herself, they will remain there as long as Reddit exists. \\n\\n*\"But they downvoted her to oblivion!\"*\\n\\nYes they did, and by doing so stated clearly and decisively that a platform for her to get more attention was not contributing to the community dialogue or discussion.\\n\\nThe only thing she was deprived of was a spot on the frontpage.\\n\\n*\"So if you disagree with someone they should just be downvoted?\"*\\n\\nThe fact that people disagree with her, and the fact that she did not contribute to the community discussion, are not mutually exclusive. I disagree with a lot of things Dick Cheney says, but I would upvote an AMA because that contributes something new to the community.\\n\\nAll Ann Coulture had to offer was sarcasm, derision, and political sensationalism.\\n\\nI\\'m sure it\\'s true that people went into the AMA knowing that, and it\\'s very likely most of the downvotes came without even giving the AMA a chance, but that doesn\\'t mean they were wrong.\\n\\nCoulter has built fame on the reputation of being hostile, divisive, and disrespectful, and Reddit decided that didn\\'t deserve a featured spot on the front page.\\n\\n*\"But Reddiquette...\"*\\n\\nReddiquette was followed, this is what it looks like on a large scale.', \"This is my first post on reddit. Before I begin, let me say thanks to everyone here! I just discovered /loseit and wish I discovered it earlier. I will try to find some pictures that will help validate my current weight loss. I am trying to break through a plateau and lose the remaining body fat I currently have.\\n\\nA background: I have always been overweight. I am 6 feet tall and used to weigh in the 220 LBs range.  I moved to a new apartment in October and started to get serious. When I made the decision to lose weight I was 225 LBs, I am currently at 183 LBs.\\n\\nDiet changes: For Monday - Saturday, I eat a granola bar for breakfast (nature valley kind), small peanut butter sandwich for lunch, and a small salad for dinner (romaine lettuce, shredded carrots, etc.) If I get hungry at night, I'll have a small amount of carrots or fruit for a snack. Sundays serve as my cheat day, I'll normally sub in some pizza for dinner instead of salad.\\n\\nExercise changes: I joined a gym and started running Monday - Friday. I started at a mile a day and worked my way up to running a 5k (3.1 miles) every day. I just started to increase the distance of my runs this week. Right now my daily run is about a 28 minute run at 7.3 mph with a 3 minute walking warmup. I want to increase the time and speed of my runs to burn more calories. I am beginning to get back into lifting weights as well. \\n\\nI have been stuck at this 183 LBs plateau for a while now. Since I am starting to lift weights again, I do not want to get discouraged if I see the scale go up due to increased muscle mass (hopefully). I am kicking myself now for not taking any before pictures or taking any measurements. I am wondering if I should make a transition to HIIT instead of long distance running. \\n\\nBasically my\", 'I\\'m in the middle of medical training.  I suffer from a history of depression and anxiety (no meds, no therapy) and am a type A personality to the extreme.  \\n\\n|\\n\\nRight now we\\'ve got a minor reprieve for the holidays, but I begin again soon.  A few months into it I managed to get overwhelmed by all my work and had four really bad crying spells.  I mean like, full on ugly cry, hyperventilating, inconsolable, choking level crying.  It was pretty much an \"I\\'m completely overwhelmed and can\\'t escape this situation\" triggered reaction.  I also did not feel supported by my immediate supervisor, which I\\'m sure contributed (I know, I need to grow a thicker skin).  I then switched medical settings (natural progression of the teaching, not forced) and had no issues in this new setting, but my embarrassment over the situation before is lingering.\\n\\n|\\n\\nI\\'ll soon be in a new setting surrounded by people who know about and/or witnessed my previous spells (some of who act quite juvenile and may comment on it).  I am mortified and ruminating on the shame of being seen as weak and unprofessional and unstable.  If I had my way I\\'d simply drop all contact and never see them again, but obviously this is not feasible.  I have my to finish this to ever get to the career I want.\\n\\n|\\nAny words of wisdom or techniques or solutions to quash some of these feelings?  They\\'re eating at me quite badly the closer the new period gets.', \"I had been in a long distance relationship with a man in Australia (I am in the US) for about a month. The relationship didn't last long because it became toxic extremely quick. Constant fighting, mental abuse from both ends, and it was all around just a terrible experience. It was turning both of us into bad people and I wanted out of it, which I made abundantly clear to him. \\n\\nDuring our relationship we both said nasty, inhumane things to each other. In the heat of the argument I had told him to just go off himself, this has happened a couple times. I know it's extremely wrong to say stuff like that, but that's how toxic the relationship was. This brings the story to him threatening me with legal action.\\n\\nHim and his family have been stalking my family, trying to find out my parents contact information and social media profiles to contact them about how bad of a person their daughter is. He has been contacting my friends, harassing them about our relationship. Both him and his dad keep harassing me, telling me how it is illegal to tell people to kill themselves and that they're going to contact the FBI or whatever. This is all extremely childish in my eyes and I'm not quite sure what to make of it.\\n\\nI have tried blocking him on any form of social media, but he's constantly making new accounts or harassing my friends into speaking to me, which is just so he can threaten me with this legal action bullshit. I have made it so clear to him that I want him out of my life without these complications. I don't know where to go from here because I'm genuinely worried he might make this into a bigger mess than it needs to be.\", 'I don\\'t know what to do...\\n\\nShe left on Apr 8 and never came home.  Went back to her son\\'s father who had been abusive.  She left the way she showed - just disappeared.  One phone call.  The lies, lies, lies.\\n\\nThen last night as we are still trying to sort out how she\\'ll get her belongings by email, this \"I\\'ve made many mistakes... This is the worst..I\\'ll have to live with my choice for the rest of my life.. \"\\n\\nI woke up like it was yesterday she left - in tears, beside myself.  I want to marry her again.  I don\\'t know how to go on without her.\\n\\nI\\'ve never been so certain of anything in my life - we belong together.\\n\\nI\\'ve never been so miserable - even during my divorce.  I saved her life when she tried to commit suicide in December.  Let her move in with me because she totaled her car.\\n\\nI think I\\'m losing my mind.', \"Here is my situation...\\nI dated this girl all through high school (freshman year until early on in college). Our relationship was overall  a good one, of course we had our fights and sleepless nights but what relationship doesn't have that? The relationship didn't end on a bad note by any means, we just sort of drifted apart since she had a life a college that i couldn't relate to or be a part of. Anyways to get to the point, during the 3 months of separation i went through many phases of happiness and depression. Unfortunately i finally cracked last night and sent a massive text to her that basically said how much i missed the old days of our relationship. She replied saying i cant keep focusing on the past and beating myself up because she was just as responsible for the breakup as i was. We talked for a bit and now i guess were friends again. \\nMy issue now is, i don't know how to act around her anymore... For the past 3 months all i have thought about is her and i crave the intimate moments we used to have. Has anyone here made the transition from boyfriend/girlfriend to surface level friends before? I'm experiencing a whirlwind of emotions and i don't know how to sort them out or what to do with them. The main thing that is really hurting me is how well she has recovered from the break up... She acts like a completely different person now, and Im still clinging onto the memories of the old her but i cant let go.\", \"I am currently going to uni and probably come back home every 2-3 weeks during the semesters. Ever since I have remembered my parents have been telling me they have been only living together because of me.\\n\\nMy parents sleep in separate rooms, and I don't think they love each other as a husband and wife. My mom constantly complains about my dad's smoking and drinking. My dad gets drunk almost every night and it annoys both me and my mom. They have issues which each other's parents,friends and things like that. When they argue they come to me and try to prove that one of them is right. I want them to be happy, but I don't know what to do. They act as friends when they are not arguing.  I try to give them my opinion but they don't listen, and my input is useless. As soon as I graduate I want to leave this house to escape this mess but at the same time I want my parents to be happy.\\n\\nMy parents clearly love me and want the best for me. I have been sick with a chronic condition for about 3 years and both of them have been doing what they can to support me. My dad helps me with my career because I am following a similar career path. But their relationship is the worst. \\n\\nWhat are the steps I take to make this situation better?\", 'My boyfriend and I have been dating for coming up to a year and a half. He’s a few months younger than me but we’re both 20 at the moment. I just graduated from college and have started my first job. I have a good salary and am starting to get on my feet as an adult, my boyfriend has had difficult few years and he’s had a lot of stuff to work through.\\n\\nBefore the difficult circumstances started he left HS early because he wasn’t enjoying it, he started studying something at college but dropped out of that because he wasn’t enjoying it either. Then some stuff went down with his family and his dad left him and his mum. He started studying something else last school year but didn’t really study and failed most of his classes.\\n\\nThis year he says he can’t afford to study and he wants to take a year off to earn some money and pay back some debts, maybe reevaluate what he’s studying again because there aren’t many job prospects for what he was studying. He’s taken on some extra hours at his job which he hates to earn some money. He always talks about hating his job and wanting to find a new one but in his spare time he just watches TV and plays computer games.\\n\\nI love him so much and I am a very loyal person but recently there have been two other guys who’ve been flirting with me and I like it. I’m so confused by this as I never wanted to be that kind of person. I’d never act on anything but I don’t even want to be the kind of person who looks at anyone but the man I love. I feel incredibly guilty about it. Both these other guys are older a little older than me and have their lives pretty much on track and I wonder if that has something to do with how I’m feeling?', \"My girlfriend and I have been dating for 5 months. We were together in person for 2 months but have been long distance for the past 3 months. When we were together for the first two months everything was fine, but since we've been apart for the past three months we've had some communication issues. She said she needs to feel like I'm still chasing her. This takes me by surprise because I feel like everything is generally going well. I've honestly never been this open and talkative with any woman that I've ever dating before. She literally said \\n\\n>I really need you to TALK, because sometimes I just feel the same as not having a boyfriend...alone. I don't know if you think that just because I'm already your girlfriend you don't have to win me anymore or what.\\n\\nWhen we were together in person everything was fine. If I was going to buy lunch, I'd check and see if she wanted me to get something for her. I'd just kiss her randomly if we were out somewhere or just see if she wanted to go out for a walk. But we can't do that for now since we are long distance. \\n\\nThe thing is, I feel like we generally communicate really well. We text each  other pretty much everyday through Whatsapp and talk a few times a week through Skype. I'm not really sure what else she wants. We agree on all of the major relationship issues (religion, kids, sex, money) so I don't think this is something to break up over.\\n\\nWe've talked about this before and I was never really the gushy type. When we were together she could see my actions and know that I was thinking about her so she really didn't mind that I didn't say it that much.\\n\\nEven though neither of us were virgins when we first started dating this is the first serious relationship for both of us. \\n\\nI'm not sure what to do. Does anybody have any words of advice?\", 'So, a little background first, I\\'ve been seeing this girl for five months now, and we are (or were) pretty close (we said \"I love you\" and all that). We\\'re both students, and at the end of last semester she failed two of her classes. As a result, it was uncertain that she could come back at all. Now she\\'s back, but still not totally certain if she can stay, it depends on if she can raise her technical GPA by a certain amount. My problem is this: since she got back, it\\'s felt like she\\'s drifting away from me. When I met her at the bus stop there was no kiss, not even a \"hey, good to see ya!\", and she says she\\'s too stressed about school to think about \"us\" right now. I\\'m trying to give her a bit of space at the moment, since I\\'m sure pestering her would just aggravate the situation, but I don\\'t know what to do moving forward. If she does have to leave I want our last few weeks together to be a good memory, and if she gets to stay I want things to get back to normal. I really do love this girl and I\\'m terrified of losing her. Any advice would be welcome.', \"I started grad school in January while working full-time, but took out loans because I don't exactly have $3200 to drop every three months. I filled out the FAFSA and was granted a little over $10k in loans, so that will last me three semesters. When I am done with school, I should have about 20k in loans.\\n\\nThe thing I hate most about loans is that they start accruing interest IMMEDIATELY (already accrued a little over $50). With that said, would it be unwise of me to just start paying off a little now? I have extra income I can throw at it every month. The interest rate on the loan is 5.4%. The only other debt I have is a car loan, but I just refinanced that for around 2.74%.\", \"My girlfriend and I frequently cuddle together on the couch together to watch various movies and television programs. I usually wrap my arm around her shoulders but sometimes she lifts my arm and brings it closer to her so my arm is around the back of her neck  and my hand is resting on her chest. \\n\\nWhen she does this, I'm not sure if she just wants me to cuddle closer or she is putting my hand there for a reason. The first time this happened my fingers were curled inwards so my hand was spread out across her chest, but she softly rubbed my hand and held my hand until it just kinda unfurled and rested on her chest so now i just keep my hand open whenever she moves my arm.\\n\\nI'm not distraught or worried about this or anything. Its actually pretty cool ^^;. but I'm just a bit confused and I feel like it would be hard to ask her about it..  Why do you think she does this?\\n\\nThanks for taking the time to read, have a good day and stuff :)\", \"It seems that we have fought more and more recently and in greater magnitudes each time. Fights start mostly over jealousy as she seems to get irritable as soon as I mention another girls existence. Recently on my birthday she was really angry because she wanted to spend time with me but I had spent time with her and my family all day.\\n\\nAnyways our last big fight really affected me to a point where I see this constant jealousy might be too much. I haven't talked to her much since then other than her apologizing a lot and saying she really appreciates how patient I am with her. She has always had issues with jealousy but she has made progress and doesn't get jealous when I hang out with friends (I know its ridiculous that she had to fix that anyways but I appreciate the progress). Since our last fight she said she would be better and read books on how to control her emotions better and how to alleviate her jealous nature.\\n\\nWe fight a lot and sometimes dating her is a chore but when shes happy shes really happy but when shes sad shes so sad. I feel like I really love her even though it seems like she isn't good for me. We talk about our futures so much it seems that we have already built a lot toward it. Shes shown she can change some, but when should I know to give up?\", 'this has a little bit of a back story so please bear with me: Last year I was roommates with a friend (not a best friend) in the dorm of my school. He got on my nerves a lot but i didnt think anything of it because i knew that 2 people sharing a room for 10 months would always lead to being annoyed. this year we both ended up going to different schools and i now live with a really good friend of mind. this week my new roommate told me that my roommate from last year was telling him all summer about how i was \"going to piss him off so much\". i didnt mind THAT much other than the fact that he told him that so much. That would be the end of things but my roommate\\'s gf went to visit his school a few weeks ago and apparently he asked her if \"im pissing off my new roommate yet\". this really pissed me off, and i know that next time i see him he is going to come approach me and ask me how my new school is and how me and my new roommate are getting along, and i dont want to call him out, but i refuse to act like nothing happened. the reason i dont want to call him out is because he is extremely meek and timid and will just back out of the situation and then bitch about it behind my back. So my question for reddit is: How can I handle this situation in the most \"classy\" way possible? I dont want to act rude or anything but i wont just pretend nothing happened. should i just give him short answers and then walk away? just ignore him?', \"Dad is a 72/m with diabetes type 2 and on blood thinners.  He weight trains 3x/week and jogs about 3mi/2x/week.  This is his second suspected TIA, the last one occurred 7 years ago.  During this recent episode he was having numbness in his hands and lips, vertigo, and had a little trouble with slurring his speech, as if his tounge was swollen, and was having to concentrate to swallow.  We went to the ER where he was monitored for a few hours and got an EKG & CT scan.  They didn't find any smoking gun but the consensus was that he had a TIA the night before.  \\n    \\n  I made him take it easy yesterday and today he's saying he feels back to normal.  I'm worried about him straining during his weight workout and triggering a full stroke, but I also realize that he needs to keep it up for his mental health as much as his physical health.  What are some exercises that would carry a lower risk of injury while helping him fend off a future attack?  Thanks!  \\n    \\n  \\n(note - he's not a gym rat or into heavy lifting, mostly he does cardio and fairly low impact circuit training, def not a gym bro)\", 'I have been dating/talking to this girl for about 2-3 months now. We hit it off fairly quickly and get along really well. We share a lot of mutual interests (music type, favorite sports team)... Even our worldview lines up pretty well. She is a gorgeous girl who I enjoy being around. Here is the issue...\\n\\nShe is going through a lot at home right now. Her mom has cancer and the doctors are not very optimistic with her condition.\\n\\nI feel like a dick even typing this, but her telling me about the troubles at home is stressing me out. She is seeing a therapist which of course I support, but when I hear about the troubles at home I have this overwhelming feeling too run away from the conversation. What to I do? Am I wrong for feeling this way?', 'My boyfriend and I have been dating for 2 years now and recently started living together, less then two months. I had surgery on my leg last week and have been staying with my parents, due to the apartment having stairs leading up to it. \\n\\nNow the problem is I really enjoy being with my parents and younger siblings. So much so, that the thought of having to go back to my apartment is making me teary eyed. Even though I enjoyed the apartment life before the surgery. An to top it off my parents live less then 10 minutes away. After typing this all out I realized, I just have a case of homesickness.', 'Massachusetts:\\n\\nI am public HS teacher. Was out of town for August. My car (97 subaru legacy wagon, in great working condition but fairly worn on the outside, ODO 200,000) was totaled in a hit and run (4 am, was parked legally on the street with nose to sidewalk, nobody hurt). Right rear axle bent, trunk window broken, door damaged, extensive frame damage. Another car was also damaged (scratched).\\n\\nDeclared totaled by police, who have it towed in town to garage which stores it for 35$ a day. Proprietor (and PD) assure me that driver\\'s insurance could (would?) cover this charge... can\\'t be moved from that location until appraised by driver\\'s insurance (which may cover damages to it).\\n\\nSlightly complicated scenario ensues:\\nDriver is apprehended by local PD after being identified. I begin insurance claim, but need to wait for final incident report from PD to have my insurance (Lib Mut) able to contact drivers insurance (unknown party, unknown ins  -- to me). I am still abroad. As it turns out, my insurance policy only covers liability, not damages incurred to the vehicle. (Fair enough, it was an affordable policy and the car somewhat old).\\n\\nThe day before I return, I hear that a different driver has been identified (by video), who has no insurance and a suspended license. Friend who had admitted to driving either took the fall or was intimidated (unclear to me). New person was been arrested a week or so after the incident. (bail of 5k$, may still be inside), initial court hearing 10/5, a month from now.\\n\\nTo cut my losses, had the car scrapped. 800$ fee from garage for storage. I am able to submit requests for court-ordered restitution for both damage suffered to the car, and expenses incurred as a result. \\n\\nTo complicate matters further, comments by those who know him on a FB post by local PD about driver doesn\\'t cast a good light on his character, to say the least... much to the effect of \"no integrity, will never repay debts, etc\". That said... what are the options in terms of terms restitution? How are they enforced?', \"Okay, so I am pretty desperately in need of a second job. I work full-time right now and need a pretty flexible schedule, so I’ve been looking for places that are open late. So, I sent an e-mail to a local club and asked if they were looking for any waitresses. It’s like three clubs in one- one side is a bar, one is a dance club and the other has “live performances” (strippers and local bands).They e-mailed me back immediately and said they had openings in the strip club for waitresses and bartenders.\\n\\nI’m not in any position to turn down a paying job so I asked how I would go about applying. I'm young, I don't mind wearing skimpy clothes and the tips are great. I received an e-mail back asking when I could come in for an interview. I told them I was available whenever and they asked me to stop by the clubs that evening.\\n\\nI met the owner in the bar and he asked me a few questions before saying “When can you start?”. I told him “Uh, this week? I can work Wednesdays and Thursdays, along with every second weekend starting after May long weekend” and he said “Okay sounds good”. He then asked for my phone number and said he would give me a text before my start date with everything I needed to bring.\\n\\nI “interviewed” on Friday and it’s now Monday. This was all so informal that I want to confirm that I’ll be starting there this week and that they will adhere to my schedule. Should I send an e-mail or just wait for the text?\", \"So, I'm 21 years old. \\n\\nSome hours ago I made a post on /r/dating_advice because I am in love with a girl that lives in another country, I asked her to be my girlfriend but she doesn't want to commit (she's being more rational than I am). I am SUPER sad right now, already cried a bit and I am still going to cry a lot because of this.\\n\\nNow, the things is, this made me think about a lot of things and I came to the conclusion that I'm really unhappy with my life right now. I'm a law student, but now I know that I don't like it and I'm in the middle of course. And the worst part is that in my country, if you want to change what you are studying at college you have to do a really hard test about general knowledge and I don't have the time and energy to study for this anymore.\\n\\nI like my family, but other than my parents, I don't really have any connection to anyone in my family. I have a lot of friends, but I only truly trust one or two of them. I doubt that I will ever miss any of the others.\\n\\nI am single and the only really interesting girl that I met in the last few years is this girls that lives in another country (different continent).\\n\\nSo basically I hate how my life is right now and I'm not sure what to do. I wanted to restart, but I'm not sure how. I thought about randomly going to some other country (US, Australia or somewhere in Europe) and just trying to get a job there and study something. I'm tired of living the same routine every day which for me is go to college in the morning, go to work in the afternoon, after work I go to the gym, then I get home at around 9pm, eat dinner and just enjoy for 1 or 2 hours before going to sleep and starting everything again.\\n\\nI don't really know what I want to achieve by posting this here. Maybe some advices. Maybe something to cheer me up. Maybe something to make me even more sad. I don't really know, just say whatever you'd like.\\n\\nThanks for your patience.\", 'Reddit I want your opinion. I just got accepted to a top 3 engineering university but I have no way to pay for it. I am finishing my associates degree in engineering science and on a whim I applied for a few jobs that I was qualified for but will obviously pay less than an engineer. I was offered a position that I would enjoy (my first real job really) and it pays around 50k. My wife also works and makes 55k. We live in the midwest and have no debt so this would be a pretty good income for us. What would you do? Take the job and dont look back or take on the 70k in debt (20k a year for 3 years plus interest) and try to get a job in the engineering field.', \"We go to the same college, although he lives a little further away. \\nWe've been together for 2 years now but throughout our relationship - we only see each other 2-3 times a month. Can I call it a relationship? we both lack experience in this area as you can see. He is awful when it comes to making plans, and is a workaholic.\\nbut a majority of our relationship is spent on texting each other and when we meet, we always do the same thing.\\n\\nI have been getting mixed opinions;\\n1. If you're happy, that's fine. Especially if you're busy\\n2. That's too little, if he cared then he would make more time for you\\n3. Are you sure this is a relationship? \\n\\nI don't know if it's a relationship. Maybe it is, but just an odd one.\\nWe will start working in a few months time, and our hometown is 4 hours away from each other.\\nMatters are more complicated because my parents don't like the idea of me being in a relationship. (lol asians)\\n\\nAnyway, is it a problem? or is it only a problem if I view it as a problem?\\nTo be honest, I'm neutral as I'm not sure what I want.\", \"I've been long-distance dating this really sweet, caring and fun guy for a few months now, and I'm deeply in love with him. (*Though I'm yet to tell him this.*)\\n\\nWe haven’t defined our relationship yet, mostly because we haven’t been able to spend as much time together as we’d liked, i.e not gotten to know each other *fully* yet. (*I would say we know each other quite well, though.*) However we both have seemed to enjoy our time together equally as much, and have said ”I like you” towards one another multiple times.\\n\\nWe’ve met about every 2-3 weeks, but have texted almost daily, mostly about our lives, thoughts and values but also throwing in the occasional ”*I miss you <3*” etc. Last week we spoke on the phone for the first time, and we had a really fun, easy-going talk. \\n\\nWe talked about meeting up again soon and everything seemed fine. He also said he was going to call me someday soon. The problem is, **he hasn’t contacted me at all in over a week**. No texts, no calls, not even a facebook-like. *Zero contact.*\\n\\n**This has led me to be confused beyond words, and I’m not sure at all what to do or how to act at this point, since:**\\n\\n**a)** I was the one who called him last\\n\\n**b)** He said he was going to call\\n\\n**c)** If I contact him first again, I’m afraid to seem clingy or needy (*Maybe he’s just been busy?*)\\n\\n**I know I could call, I could text, and I could do *anything*. But I have *no idea what to say* or *how to act* without it being awkward.**\\n\\nAny thoughts on this matter would be deeply appreciated.\", \"we've met online, met each other once, recently she tried to break up with me, i tried my best to pour out all my heart into her. She decided to give me a second chance.\\nAlthough her main reason for breaking up with me is because she forgot i mentioned to her in the past that i'm agnostic and it was something new to her all of a sudden she flips a switch to break up with me. it hurt like hell she said i lied to her i've never mentioned being agnostic when i clearly did.. i told her i was agnostic we had a fight about it but later on came closer about it and it was fine for awhile but just recently it flipped a switch for some reason even though she once was ok with it but she just changed into a completely different person i feel very destroyed damaged scar'd i can't believe that it happened i vow'd my life to her like i've never done with anyone else and i'm keeping it till the end even if she abuses me i'll keep trying to win her heart although it's painful with her memory being so bad at times, it really effects who she is as a person.. it's confusing i know she isn't doing it on purpose she's such a sweet heart if only she could have better memorys.. she would easily be perfect in my eyes .\\nwhat bothers me most is she threatened me that if i ever become an agnostic again she will end it there with no discussion at all. (i honestly feel like i'd never threaten her nor a person that i truly love.. i just can't understand why she's changed so much or why did she even bother saying that.. i'm in so much pain i can't express how deeply hurt i am about it)\", \"She likes to go out nearly every night and when she stays in its usually only to get work done. I want to spend time with her and while we go out together on the weekends sometimes in groups she seems to avoid going out with just me. We'll make plans to have a romantic night out together (just the two of us) and she keeps pushing to have it be in a group. She'll do this by saying that so and so called us and wanted to know what we'd be doing on that date night, or other excuses. I feel like I'm an afterthought in her life and that she doesn't really care about me. She constantly says she loves me and wants to spend the rest of he life with me, but it doesn't feel that way. If she doesn't want to be with me why wouldn't she just break up? This is my first long term relationship so I don't know whether this is a common issue or not. She's from a wealthy family so I don't think its that shes using me for the place, but often times I feel like she is slowly getting more and more distant. We have sex 1-2 a week which is also a sore point in our relationship.\", \"A little background. I am a 18 male who is a freshman in college. I recently got out of a relationship of 2 years. The breakup was mostly one sided ( I didn't want it to end). My ex got together with her best friend's ex less than a week later. This was about 2 weeks before my first day of college. I got over the relationship for the most part, some random things can still make me feel sad about it but for he most part I'm ok. I've met a few girls since going to college and am good friends with a few. I was asked to go to a hall meeting for my hall(basically event planning for the hall) i agreed and went. The meeting was quite boring until i noticed this amazingly beautiful girl sitting across from me. During most of the meeting we made eye contact where we neither of us looked away for quite a while. I am not the most confident guy and am quite shy. Having been in a relationship for 2 years  of which my ex was the one that asked me out, i don't really know what i'm doing or what i should do. I havent talked to her at all and she doesnt have any classes with me but i know her name because she is a RA for one of the floors in my building. I don't know if i read to much into the eye contact or if she was interested in me in someway. What should i do?\", 'I\\'m in the middle of medical training.  I suffer from a history of depression and anxiety (no meds, no therapy) and am a type A personality to the extreme.  \\n\\n|\\n\\nRight now we\\'ve got a minor reprieve for the holidays, but I begin again soon.  A few months into it I managed to get overwhelmed by all my work and had four really bad crying spells.  I mean like, full on ugly cry, hyperventilating, inconsolable, choking level crying.  It was pretty much an \"I\\'m completely overwhelmed and can\\'t escape this situation\" triggered reaction.  I also did not feel supported by my immediate supervisor, which I\\'m sure contributed (I know, I need to grow a thicker skin).  I then switched medical settings (natural progression of the teaching, not forced) and had no issues in this new setting, but my embarrassment over the situation before is lingering.\\n\\n|\\n\\nI\\'ll soon be in a new setting surrounded by people who know about and/or witnessed my previous spells (some of who act quite juvenile and may comment on it).  I am mortified and ruminating on the shame of being seen as weak and unprofessional and unstable.  If I had my way I\\'d simply drop all contact and never see them again, but obviously this is not feasible.  I have my to finish this to ever get to the career I want.\\n\\n|\\nAny words of wisdom or techniques or solutions to quash some of these feelings?  They\\'re eating at me quite badly the closer the new period gets.', 'The main thing she complains about is chores. I do the dishes everyday and once a week clean the kitchen and living room. She doesn\\'t say hello when she comes home from work, first thing she says is \"Did you do the cat litter? Did you clean?\" Even though I do clean, we have seven cats, so there are fuzz balls. \\n\\nShe\\'s also passive-aggressive, like for instance she will say \"I smell the cat litter\" and just goes back to her computer. Or says something like \"Looks like the dishes are piling up. Someone needs to do them\", \"The cat food is low\". But doesn\\'t do anything about it and she isn\\'t telling me to do it. \\n\\nWhen she does something, she complains about how it smells or how tired she is or tries to get someone else to do it. Or she throws a temper tantrum about how she\\'s getting screwed over.\\n\\nI\\'ve been ignoring her when she says something passive-aggressive because if I do something, it only reinforces it. I live at home ever since I graduated college. I do have a crappy job, but most of my income goes towards my student loans. I am saving and planning to move out once I feel stable enough to.  But it isn\\'t anytime soon and I am losing my mind just listening to her.', 'A year ago, my current husband and I got married. My sex drive is very high but he approaches sex differently. While he does have a libido, he approaches sex with me the same way he would approach jacking off. It feels the same - like I am a full figured fleshlight. Also he finishes before I do, he always state that he is sorry and we can try again later but every session is the same. He doesn\\'t take pleasure in pleasure, he just approaches it the way he would a job. He does say he wants me to finish as well, but usually that means he will just lay back and let me be on top while taking the time to catch some extra z\\'s. I have tried to give him tricks and hints but to no avail. I could try to talk some more but I feel like it is fruitless to try and engineer a*\"desire\"* to please. Even if your attempts are successful the fact that you have to make an attempt flies in the face of natural sexual chemistry.\\n\\nI am not the type of women that is overly concerned with sex. I would never have imagined that a relationship that is healthy otherwise would be damaged because of a sexual misalignment. But now that I am married and in my 30\\'s it seems I want nothing more than an emotionally and sexually fulfilling sexual encounter . My husband is very traditional and conservative so there is not much flexibility. Admittedly, the relationship has its emotional deficits too. I am quite conservative myself. I am committed to my husband and our marriage. If for nothing else then the structure it provides my very young son, but now I finding myself needing something that isn\\'t there. I feel like I am in a pressurized cooker ready to blow.', 'Hopefully someone can point me in the right direction here.\\n\\nI had an accident on my vehicle and called my insurance company. My rep referred me to a body shop 25KM from my house, I thought this was very fishy but I agreed.\\n\\nThis shop made me sign documents regarding repair to the vehicle and insisted that they will not do an estimate of the vehicle until the papers are signed, so I signed them to speed up the process.\\n\\nToday I called back my insurance and my rep was not available so I spoke to a new person, he was puzzled that I was sent so far as there is an authorized body shop less than 5KM from my house.\\n\\nIts been a week without a call, and today I finally reached out to the insurance company, and they informed me the estimate was 8500$ of repairs, and that they will be following through with a repair for the vehicle instead or claiming a total loss and using my replacement cost insurance. (In Quebec Canada total loss is seemed to be deemed when the cost of repairs exceeds 80% of the cost of the vehicle). All book values I have seen point that my car is not worth more than 10,000$.\\n\\nI am now fighting with the company to get an estimate from a third party company because it seems they believe 8500$ does not exceed this 80%.\\n\\nHowever, here is my main question. The documents this body shop made me sign mentions that they have the right to go to the insurance and ask them for payment for the repairs. Am I still allowed to ask my insurance to take my car back? I feel like they are fishy and I am getting scammed....\\n\\nI know the post is long but any advice from someone who knows law would be greatly appreciated.', \"So I've been friends with Jakob for close to 3 years now and ever since we met we have been inseparable. Last year, I finally gained the courage to tell him that I loved him, and so I sent a letter saying that. It didn't matter if feelings were reciprocated but I wanted him to know that. They weren't and I found out he was just getting into a relationship with a foreign exchange student that had gone to his high school. \\n\\nShe rarely comes back to the US to visit from the European country in which she lives and they've been together for about a year now. Jakob and I live in the same town for the summer and he's taken me on multiple date like activities: movies, dinner, kayaking, etc. and every time he is flirty. \\n\\nOur friends all joke that we are dating and in the future we will get married when we realize we are meant for each other and we play it off since he's in a relationship with someone else. However this gf has no inclination of wanting to go to college or live in the US at any point. I need advice in what I should do or say to him. I still love him and always will and I don't know what I'd do if we ever just stopped talking.\", \"So, my GF and I have been together just on 8 months. I am her first boyfriend ever and she has never celebrated Valentines day in part to this.\\nI have never celebrated it anyway just because personally I don't believe it's anything, I really choose not to acknowledge it anyway.\\nThe topic came up and she asked me what we were doing and I stated nothing because we had previously spoken about how we both felt it was an unnecessary day to really celebrate.\\nShe got mad and demanded we do something and I kept asking why we had to and her only response was because she never got to before and because we NEEDED too. I said I don't want to blow a ton of money on a stupid day we both had already talked about not meaning anything. This got her even more mad and eventually after some yelling i comprised and said we would do something small.\\nA side note is for the last month and a half we have been fighting quite a lot and it seems like she's only been showing me affection when it really suited her. It's making me feel unhappy in the relationship and sort of at a crossroads with it all.\\n\\nNow that was about a week and a half ago, over that time she has brought up the day and keeps showing me really pricey things on the Internet and such which I've told her is too much, again making her mad.\\nI'm really at a loss with what to do right now. Am I being unreasonable in this, should I make more of an effort?\", \"So I have just started my second semester of college. I have had a couple of tiny crushes throughout my life but I've never really acted on them and sometimes it's on girls who are already in relationships so obviously I can't be that guy. Well this last semester there has been a girl who I've been running into at the caf every other day. She is really cute and has somewhat the same interests as me. She's into anime(I'm mildly interested but I have to be watching it with someone to stay focused because I put on english subs and listen to the original voice actors but no more of that topic), she likes board games and is part of the Esports scene at my college. I never got the courage to go up to her and talk to her but this semester she ended up being in both of my Biology class and the Biology Lab so I feel like this semester is the perfect time to try and get with her. I don't really know how to approach her. I was thinking on asking her to be study buddies which seems like a good idea but I don't know if I should immediately express my interest in her or not because I don't want to creep her out to the point she never wants to talk to me again or something. I really want this to work out and to be in a happy relationship in which we both enjoy each other's company since we both have very similar interests.\", \"Hi there, I've been chatting with this girl i've met online, and she seems super sweet and cute, and everything about her seems perfect! At first i didn't really pay attention to it, but i suddenly realized that she's christian, and not only that, but actually studying to be a preacher herself. She's also been working as a humanitarian aid worker in Africa, and all in all seems like such a goodhearted person, but heres the problem: I'm not that great a person myself. Here's some information about me, that she knows, and doesn't knows: I told her that I work with children aged 3-6 with autism, which is true, but I think she thinks that I do it for the sake of helping the children, but the truth is that i wouldn't do it if it wasn't well paid! I really enjoy it, but it's just a job! We haven't been chatting about religion or anything, but I'm a little afraid if she brings it up, and finds out that i'm not religious at all! I drink, smoke, do drugs and live my life pretty selfishly, but something about this girl just makes me curious, and i'm nervous she finds out about how i live my life, and therefore don't want to date me! I just feel too shitty compared to her!\\nBTW I'm meeting up with this girl in the weekend! \\n\\nDo any of you have any advice? should i be honest with her, and tell her who I am, instead of pretending to be as good a person as she is? or should i try to avoid bringing up my past and present self, and act like I care for other, like she does?\", \"My boyfriend [31M] and I [27F] have been dating for 3 years. We just moved in together about 4 months ago. I feel that I really betrayed his trust.\\n\\nMy boyfriend and I have different libidos. It seems that I want sex a lot more than he does. We have had conversations about this and he has told me what he feels about this subject. (We both have weight issues and are actively trying to lose weight.)\\n\\nI knew that he would watch porn and masturbate as he has told me before, But one day I was feeling slightly insecure and I decided to look at his browsing history for that type of porn he was looking at. I felt a bit hurt that he seemed to be looking at porn and masturbating more often than we were having sex. Upon going through his browsing history, I came across a questionable few searches that weighed on my mind.\\n\\nI finally gathered up enough courage to ask him about it, and it all went downhill from there.\\n\\nHe ended up explaining to me what he was looking at and why he was looking at it, but ended up feeling like I've betrayed his trust by going into his browsing history. I guess I really hurt him when I did that because he immediately went to his computer and put passwords up. He explained that I've betrayed his trust and that was the single most important thing in our relationship.\\n\\nI feel so bad for betraying his trust and I don't know what to do. I've been crying since it happened and I don't know what to do. Is he ever going to trust me again?\\n\\nI don't mind that he put passwords on his computer because I really shouldn't have looked on them in the 1st place. I just feel so bad. Is there anything I can do to regain his trust?\\n\\n**I'm sure that he doesn't have an addiction. his frequency doesn't come close to an addiction whatsoever.\"], 'completions': [(\" My partner is sending affectionate messages to a guy on reddit and it's causing problems with me.\", ' Subway clerk ate the sub, that was made but not payed for, in front of the customer after a long argument about it.', \" has a computer ever done anything that could be considered an action outside of it's programming and has it been documented?\", \" Dog upstairs keeps pissing on our balcony. I want to contact the owners living upstairs to stop it happening, but also want to avoid them telling building management that I have (much better trained) pets too, so that I don't have to choose between my house and my pets.\", ' I need some advice on how to get into a university to study medicine in europe', ' Would you date a guy who has injured his penis and may not be able to satisfy you in the bedroom?', ' I am trying out my first kiss; I have no idea what to do after, and am honestly quite nervous.', ' Boyfriend of six years planned to propose to me, broke up with me less than a year ago, but now says he wants to break up.', ' Was a bloody idiot 5 years ago and got into debt I could never have paid, now need to get a handle on it. ', ' I like a girl, get to kiss her and then get turned off within 15 minutes.', \" my best friends are smoking and I can't stop.\", \" I'm a freshman in college, and want to know how to keep a conversation going with a girl at a party, and what i should say to make it more interesting.\", \" meeting boyfriend's English parents for the first time; unsure of what to pack for the weekend and where to sleep; no idea where to place a french truffle or coffee gift?!\", \" he beat the shit out of me and now he says he doesn't want me anymore after a year together. How do I cope with the pain of betrayal?\", ' Puppy has horrible skin, we try all of our best to make him feel better. But he still hurts.', \" I'm not very passionate about anything anymore, I don't have a lot of friends so I can't go out and have fun anymore. I don't know how to change this. I just want to become more confident and happy.\", \" Stranger points out my acne when I wasn't all that bothered about it before. Made me an incredibly self-conscious teenager.\", ' 22 year old home owner, payed off, looking to make income from property in the next 10 years, or is this just a fantasy?', \" I have a past that I haven't shared with the lady of my dreams. When should I bring it up?\", ' Laying off in 5 months and being offered severance package.  Wondering whether or not to stay or leave to pursue other opportunities.', ' I used to make up words and when I talk about it now everyone knows what they are.', ' Charming lady hangs out with my friends and I, but I\\'m not sure if I can ask her out without all of us knowing and without her being \"friends\" with the guy she\\'s \"seeing.\"', \" You are in a coma-like state during the seven minutes that your heart stops, and your conscience takes hold of your mind subliminally and depending on the choices you've made, you either have a good or bad manifestation the last seven minutes.\", ' Involved with girl, need to break it off, strong feelings for mutual friend.', ' I snooped on my girlfriends facebook and saw unseltting messages on there between her and another guy. I am conflicted as what to do?', \" Became best friend with my ex. Still love her. She has a new boyfriend. Can't stand it. Don't know if i should stay friend.\", \" SO and I are on a break. SO is in a therapy program that will hopefully help her to be more independent, give her positive coping mechanisms, and help her set and reach goals. I don't want to start the relationship until I'm certain she wants and is achieving changes in her life. How can I be sure that this is happening and how can we use this time off from each other for our benefit?\", ' Going on a business trip for a week, leaving my boyfriend behind, what can we do to get this eaiser and make it less depressing?', ' Wife spends money in a way that is completely out of control - clothes / food shopping / entertainment / etc. - and it is making it hard to save money.', ' The AMA was censored, but within reason, and based upon the content of the AMA, it was a mistake.', ' version of this long-winded post: lost 42 LBs, still have some excess body fat (chest, stomach, love handles) that I wish to lose. Wondering if I should make any changes to diet / exercise to help push past this plateau.', \" I get overwhelmed at work, and I can't escape.  I'm anxious and embarrassed to be seen as weak/unstable.  How to quash some of the feelings?\", \" Ex is threatening me with legal action because I've emotionally abused him. I'm dumbfounded and I'm not sure how to make this situation better.\", \" She left on April 8 after knowing her son's father was abusive.  She left a phone call and the lies.  I want to marry her again.  I don't know how to go on without her.\", \" Dated girl for 4 years, broke up 3 months ago and just recently started talking again. I don't know how to act around her because i'm still really attached to the old relationship.\", ' Parents selfishly staying together because of me. They are not a couple but their relationship is awful. How can I make it better for them?', ' I’m confused about my feelings towards my boyfriend and I don’t know what to do.', \" Long distance relationship. Girlfriend says she needs to feel like I'm still chasing her even though everything seems great. Need advice on what to do/say to fix this communication issue.\", \" Girlfriend failed two classes, and I'm worried she's drifting from me. Any advice?\", ' Should I pay off loans right away or wait until I graduate? How do I get the most for my money?', ' Girlfriend hugs me when we cuddle, does it because she likes me or does it cause she likes me?', ' GF of a year and a half gets jealous constantly and seems to lack emotional control. We fight alot recently and sometimes dating her seems like a chore. Is it worth breaking up over issues between us?', \" My roommate told his gf that i was going to piss him off so much, but i don't want to call him out, so how can i handle this situation?\", \" Dad had a recent TIA, wants to get back on his gym schedule, what are some exercises he can do that don't involve any risk of injury?  Thanks!\", \" New girlfriend's mom has cancer. I don't know what to do when i hear about the troubles at home. Am I wrong for feeling this way?\", ' I have a case of homesickness and I want to stay with my parents and younger siblings.  Although they live less then 10 minutes away.', ' totaled car, damaged to extent of being totaled. Mandatory costs for subsequent repairs, which may be a significant portion of the total cost. Possible alternative to storage of vehicle, which may also be a deterrent to driver. Any other suggestions?', ' I am a low-budget waitress who was hired on a Friday after an informal job interview and I want to confirm the start date of my assignment. Should I send an e-mail or wait for the text?', \" I'm 21 years old and the girl I love the most don't want to be my girlfriend because we live in different countries and that made me think about how I'm unsatisfied with my life right now. I'm lost. Not sure what to do.\", ' no debt, got a job offer, combined income over 100k, do this or go in debt to be an engineer.', \" I'm [f/19] not sure about my relationship. Is it a problem or is it only a problem if I view it as a problem?\", \" Been long-distance dating this guy for a few months, talked and texted often but haven't heard from him over the past week. Not sure what to do, or how to act.\", ' she has memory problems recalling the past.. i feel deeply sad/frustrated about it', \" Girlfriend never wants to spend time alone with me. I feel like I'm only an afterthought.\", ' shy not much experience havent talked to this girl but we made very long eye contact for about an hour. I would really like to get to know her but dont know if i just read to much into things.', ' I got emotional and acted completely unprofessional in front of people I wanted to look professional and well-composed in front of.  How do I get over this embarrassment and move forward?', ' My mom complains about chores, is passive-aggressive, and will throw a tantrum. I want to move out so bad but have to tolerate this in the meantime.', ' My husband approaches sex the same way he would a job - lack of desire and lack of comfort making sex frustrating and unsatisfying. Not sure how to change the dynamic or if i should.', ' Body shop made me sign documents, asked me to sign them, was told by insurance rep that I can ask my insurance to take my car back.', ' In love with my best friend who has a gf, what do I do?', ' had massive fight with gf over valentines day over petty things, feel like im being unreasonable, need advice on what to do now, am i being unreasonable?', ' I don\\'t know how to approach my first real crush because I don\\'t want to be seen as \"creepy\".', ' meeting a christian girl as a non religious person, she knows about me, i feel too shitty compared to her, who i think is perfect for me, should i act like it or avoid talking about religion/my past self?', \" I looked on my boyfriend's browsing history and asked him about the porn he watched. He got very upset and told me that I betrayed his trust.\"), (' boyfriend has been talking to another man on Reddit for a while and I found out. What should I do?', ' customer asked for free sub when coupon was denied.', ' What is the closest a computer has ever come to reasoning and being able to create new processes out of nothing and then live on forever?', \" My upstairs neighbours have a dog who pees on my balcony. It's been happening for a while but I don't know how to approach it.\", ' studying medicine in european university, any tips/advice?', \" I tore a ligament in my penis and I'm not sure if I can even be in a relationship anymore.\", \" I am a virgin, trying to get my first kiss. I am pretty sure I can but I don't know what to do afterwards.\", ' My boyfriend and I of six years had planned to get married, but within a year of us breaking up, he wanted to break up. What happened?', \" Got myself two overdrafts and I'm afraid to get rid of either one because I don't have a job.\", ' try to kiss girl I fancy, get turned off after, but still feel like I want to be with her, any advice?', \" My friends won't stop smoking outside, I want to know how to deal with this.\", ' how to keep a conversation going with a girl at a party when you have no common interests? something to say to keep the convo going?', \" Met boyfriends parents, dinner awkward, no idea what to pack for weekend, unsure where to sleep, and don't know what to bring for gift. HELP!\", ' I know it wasnt my fault and he is a psycho but somewhere really deep in my heart I secretly wish and think I can mend stuff.', \" BF's dog has terrible skin. How do I make him feel better so that I don't end up costing my pup a life?**\", ' I have no real passion at the moment and that makes me sad and think my life is pointless.', ' a stranger suggested a wrong treatment for my acne and made me feel guilty and sad.', ' 22 year old homeowner wants to use that home to buy more property and eventually use the rental income from it to eventually live and fund retirement. Is this responsible and/or feasible?', \" I was really into a girl recently and we have a great connection. But I don't know if it's worth ruining the mood by talking about my past struggles.\", \" I'm getting laid off in five months and I want to know if anyone else has been down the same path and what their experience was.\", \" Made up words for stuff over the years and people always know what I'm talking about now.\", \" Am I just getting an entitled girl to do nothing and just be a friend? She's an acquaintance, she's just hanging out with another group of friends the whole time.\", ' As an old man, I have discovered that during your last 7 minutes of consciousness you can either have a good or bad manifestation of yourself.', \" I like the girl I have been 'involved' with, but I like another girl more. Help!\", ' saw some flirty messages on my girlfriends facebook (nothing to explicit) she just reponded with a haha. We have been dating for just over a year, rarely fight and love eachother very much. I am not proud that I snooped on her open facebook but at the same time I feel like I', \" I'm quitting my ex and going no contact for the summer , she got a new boyfriend , i'm worried about losing my only friend but i also don't know if it's a good idea\", ' SO and I are taking a break, really struggling with her lack of independence and inability to deal with real life. How can we make the break as productive as possible and how can we use the time apart constructively?', ' Going on a week long business trip, dont know how to cope with anxiety and dk how to cope with being sad because missing my SO.', \" Wife spends money she doesn't have - then gets mad when I try to talk with her about it.\", \" Ann Coulter doesn't deserve a place on Reddit, they chose to censor her, not to meet her expectations. This is an example of the values that Reddit has become.\", ' is: I am overweight, I want to lose some body fat. I am trying to break through a plateau and lose the weight I have. I am a beginner and I am looking for advice on how to do that.', \" I'm an anxious, depressed, type A person who's about to teach medical students and has a feeling of being out of control.  How do I get over this?\", \" Ex-boyfriend is threatening me with legal action because I was mean to him. I don't know what to do.\", ' Girlfriend left, never came home, left on Apr 8, never came home.  Was abusive father figure until Feb.  Anywhere she was, she was abused.  How to go on without her?', \" Dated girl for 4 years, broke up 3 months ago and she is acting like we are friends again. I don't know how to act around her now with all the emotions rushing back to me.\", ' parents are arguing constantly and want to stay together because of me.', ' I’m in love with my boyfriend and I feel guilty about it.', ' Long distance relationship is not working as well as we used to due to communication issues. Unsure what the problem is/ how we can fix it/ any advice would be greatly appreciated.', \" girlfriend got back from being unsure of her career, but now she's been drifting away from me. What do?\", ' I have $10k in loans, should I start paying off them at 15% right now?', \" Girlfriend is making me feel like I'm the center of her universe.\", ' gf and I fight alot lately and sometimes dating her is a chore. Wondering if our relationship can be salvaged and if so how can I make it work?', ' how do i show someone that their behavior is unacceptable and that i wont be friendly towards them until they apologize?', ' dad had a mini-stroke 2 days ago but wants to get back to work, how do safely?', ' New girlfriend is going through a rough time at home. Her mom has cancer and the doctors are not very optimistic. What do I do?', \" Grown adult leaves the nest, returns back to the nest, now doesn't want to leave again.\", ' totaled car, no insurance. how do I proceed to get the balance coming back to me?', ' I was hired on the spot at a club after an informal interview and I want to confirm that I will be starting there this week and that they will adhered to my schedule.', \" I'm in love with a girl that lives in another country but I don't know how to start over my life.\", ' what would you choose if you have the option of a 50k salary instead of an engineering degree with a debt of 20k and a 10 year interest rate.', \" I'm confused about my relationship.\", ' My boyfriend has been unresponsive to my texts and calls for over a week', \" I [24 M] with my [25 F] 5months she's changed so much and i feel like she's a monster and i'm not comfortable with it but i just don't know how to proceed\", \" Girlfriends are always pushing for more time to spend with me. She doesn't seem to like spending time alone with me. Not sure if this is normal or not.\", \" met a girl who i'm interested in but i havent talked to her, she has a RA for one of the floors in my building, i dont really know her name.\", \" I'm an anxious, depressed, type A person who's about to teach medical students and has a feeling of being out of control.  How do I get over this?\", \" Mom complains about everything. I do the dishes. She doesn't do her own chores. Doesn't tell me to do them, just complains that she's getting screwed over.\", ' My husband is conservative and traditional and I am very controlled and conservative myself. Now that we have been married for 1 year I am finding myself wanting sex & emotional release less. What are my options?', \" My insurance is trying to sell me a vehicle and not paying for the repairs. I am stuck with the car and can't possibly afford another one.\", \" I love a guy I've known for 3 years but he has a girlfriend who lives in another country. Should I tell him? How do I go about it?\", ' Had a fight with GF over valentines day, still over it despite her showing signs of affection and spending alot of money; need advice on what to do next. Am I being unreasonable?', ' I like a cute girl but I don\\'t know if I should try to get to know her the same way I\\'d like a \"real\" girl.', \" i'm a religious person, girl i met online is christian, and doesn't know about it, and i don't want to ruin the chance of a wonderful relationship.\", \" I looked into my boyfriends browsing history and found a few searches that I shouldn't have. I feel like I betrayed his trust. What should I do?\")]}\n"
     ]
    }
   ],
   "source": [
    "score_completions()"
   ]
  }
 ],
 "metadata": {
  "kernelspec": {
   "display_name": "superhf",
   "language": "python",
   "name": "superhf"
  },
  "language_info": {
   "codemirror_mode": {
    "name": "ipython",
    "version": 3
   },
   "file_extension": ".py",
   "mimetype": "text/x-python",
   "name": "python",
   "nbconvert_exporter": "python",
   "pygments_lexer": "ipython3",
   "version": "3.10.9"
  },
  "orig_nbformat": 4
 },
 "nbformat": 4,
 "nbformat_minor": 2
}
