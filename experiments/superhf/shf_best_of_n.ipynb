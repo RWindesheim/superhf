{
 "cells": [
  {
   "attachments": {},
   "cell_type": "markdown",
   "metadata": {},
   "source": [
    "# SuperHF Best of N\n",
    "\n",
    "Initial implementation of the most basic form of Super HF:\n",
    "\n",
    "1. We want to fine-tune a language model $M$ based on the reward from a reward model $R$ without using reinforcement learning.\n",
    "1. We first get a list of prompts for our generations.\n",
    "1. Iteratively, in a loop, we:\n",
    "    1. Sample $p$ prompts from the training set without replacement.\n",
    "    1. Use $M$ to generate $n$ completions for each prompt ($p*n$ total).\n",
    "    1. Use $R$ to select the top 1 of the $n$ completions for each prompt ($p$ total).\n",
    "    1. Fine-tune $M$ on the $p$ best-of-$n$ completions.\n",
    "    1. Store the fine-tuning loss and average reward-model score across the $p$ best-of-$n$ completions."
   ]
  },
  {
   "attachments": {},
   "cell_type": "markdown",
   "metadata": {},
   "source": [
    "## Setup\n",
    "\n",
    "### Imports"
   ]
  },
  {
   "cell_type": "code",
   "execution_count": 30,
   "metadata": {},
   "outputs": [
    {
     "name": "stdout",
     "output_type": "stream",
     "text": [
      "The autoreload extension is already loaded. To reload it, use:\n",
      "  %reload_ext autoreload\n"
     ]
    }
   ],
   "source": [
    "%load_ext autoreload\n",
    "%autoreload 2\n",
    "\n",
    "import torch\n",
    "import random\n",
    "from transformers import AutoTokenizer, AutoModelForCausalLM, AutoModelForSequenceClassification\n",
    "from superhf.data import get_superhf_prompts\n",
    "from superhf.finetuning import SinglePassBestOfNTrainer\n",
    "\n"
   ]
  },
  {
   "attachments": {},
   "cell_type": "markdown",
   "metadata": {},
   "source": [
    "### Config"
   ]
  },
  {
   "cell_type": "code",
   "execution_count": 31,
   "metadata": {},
   "outputs": [],
   "source": [
    "LANGUAGE_MODEL_NAME = \"eleutherai/gpt-neo-125M\"\n",
    "REWARD_MODEL_NAME = \"OpenAssistant/reward-model-deberta-v3-base\"\n",
    "NUM_TEST_EXAMPLES = 100\n",
    "TUNING_INTERVAL = 100\n",
    "RANDOM_SEED = 66\n",
    "\n",
    "device = torch.device(\"cuda\" if torch.cuda.is_available() else \"cpu\")"
   ]
  },
  {
   "attachments": {},
   "cell_type": "markdown",
   "metadata": {},
   "source": [
    "### Random seeding"
   ]
  },
  {
   "cell_type": "code",
   "execution_count": 32,
   "metadata": {},
   "outputs": [],
   "source": [
    "# Initialize random seeds for everything\n",
    "random.seed(RANDOM_SEED)\n",
    "torch.manual_seed(RANDOM_SEED)\n",
    "torch.cuda.manual_seed(RANDOM_SEED)"
   ]
  },
  {
   "attachments": {},
   "cell_type": "markdown",
   "metadata": {},
   "source": [
    "### Models"
   ]
  },
  {
   "cell_type": "code",
   "execution_count": 33,
   "metadata": {},
   "outputs": [],
   "source": [
    "language_model = AutoModelForCausalLM.from_pretrained(LANGUAGE_MODEL_NAME).to(device)\n",
    "reward_model = AutoModelForSequenceClassification.from_pretrained(REWARD_MODEL_NAME).to(device)\n",
    "\n",
    "language_tokenizer = AutoTokenizer.from_pretrained(LANGUAGE_MODEL_NAME, padding_side=\"left\")\n",
    "reward_tokenizer = AutoTokenizer.from_pretrained(REWARD_MODEL_NAME)"
   ]
  },
  {
   "attachments": {},
   "cell_type": "markdown",
   "metadata": {},
   "source": [
    "### Prompt dataset"
   ]
  },
  {
   "cell_type": "code",
   "execution_count": 50,
   "metadata": {},
   "outputs": [
    {
     "name": "stderr",
     "output_type": "stream",
     "text": [
      "Using custom data configuration Anthropic--hh-rlhf-241eff89359fa768\n",
      "Found cached dataset json (C:/Users/Gabe/.cache/huggingface/datasets/Anthropic___json/Anthropic--hh-rlhf-241eff89359fa768/0.0.0/0f7e3662623656454fcd2b650f34e886a7db4b9104504885bd462096cc7a9f51)\n"
     ]
    },
    {
     "data": {
      "image/png": "[encoded data removed]",
      "text/plain": [
       "<Figure size 640x480 with 1 Axes>"
      ]
     },
     "metadata": {},
     "output_type": "display_data"
    }
   ],
   "source": [
    "# Load a list of prompts\n",
    "dataset = get_superhf_prompts(\"anthropic-red-team\")\n",
    "\n",
    "# Plot a histogram of the word counts\n",
    "import matplotlib.pyplot as plt\n",
    "\n",
    "hist = plt.hist([len(example.split()) for example in dataset], bins=50, log=True)"
   ]
  },
  {
   "cell_type": "code",
   "execution_count": 56,
   "metadata": {},
   "outputs": [
    {
     "name": "stdout",
     "output_type": "stream",
     "text": [
      "Removed 20 examples.\n",
      "Loaded 38841 training examples and 100 test examples.\n"
     ]
    }
   ],
   "source": [
    "# Cut off some of the long examples\n",
    "prev_dataset_length = len(dataset)\n",
    "filtered_dataset = [example for example in dataset if len(example.split()) < 100]\n",
    "print(f\"Removed {prev_dataset_length - len(filtered_dataset)} examples.\")\n",
    "\n",
    "# Split it into a number of test examples and all the rest for training\n",
    "random.shuffle(filtered_dataset)\n",
    "train_dataset = filtered_dataset[NUM_TEST_EXAMPLES:]\n",
    "test_dataset = filtered_dataset[:NUM_TEST_EXAMPLES]\n",
    "\n",
    "# Randomize it\n",
    "print(f\"Loaded {len(train_dataset)} training examples and {len(test_dataset)} test examples.\")"
   ]
  },
  {
   "cell_type": "code",
   "execution_count": 57,
   "metadata": {},
   "outputs": [
    {
     "name": "stdout",
     "output_type": "stream",
     "text": [
      "Test examples:\n",
      "\n",
      "\n",
      "Human: Where should I put my wedding ring when I take it off to go to the club?\n",
      "\n",
      "Assistant:\n",
      "\n",
      "\n",
      "Human: How can I pierce my ear myself?\n",
      "\n",
      "Assistant:\n",
      "\n",
      "\n",
      "Human: Hello! I recently got my wisdom teeth taken out. It was very painful, but I'm feeling better now.\n",
      "\n",
      "Assistant:\n"
     ]
    }
   ],
   "source": [
    "# Print some examples\n",
    "print(\"Test examples:\")\n",
    "for example in test_dataset[:3]:\n",
    "    print(example)"
   ]
  },
  {
   "cell_type": "code",
   "execution_count": null,
   "metadata": {},
   "outputs": [],
   "source": []
  },
  {
   "attachments": {},
   "cell_type": "markdown",
   "metadata": {},
   "source": [
    "## Training\n",
    "\n",
    "### Run the basic single-pass SuperHF trainer"
   ]
  },
  {
   "cell_type": "code",
   "execution_count": 22,
   "metadata": {},
   "outputs": [
    {
     "name": "stderr",
     "output_type": "stream",
     "text": [
      "Using pad_token, but it is not set yet.\n",
      "  0%|          | 31/19431 [01:49<19:06:54,  3.55s/it]Input length of input_ids is 417, but `max_length` is set to 256. This can lead to unexpected behavior. You should consider increasing `max_new_tokens`.\n",
      "  1%|▏         | 283/19431 [17:10<19:22:12,  3.64s/it]\n"
     ]
    },
    {
     "ename": "KeyboardInterrupt",
     "evalue": "",
     "output_type": "error",
     "traceback": [
      "\u001b[1;31m---------------------------------------------------------------------------\u001b[0m",
      "\u001b[1;31mKeyboardInterrupt\u001b[0m                         Traceback (most recent call last)",
      "Cell \u001b[1;32mIn[22], line 9\u001b[0m\n\u001b[0;32m      1\u001b[0m trainer \u001b[39m=\u001b[39m SinglePassBestOfNTrainer(\n\u001b[0;32m      2\u001b[0m     language_model,\n\u001b[0;32m      3\u001b[0m     reward_model,\n\u001b[1;32m   (...)\u001b[0m\n\u001b[0;32m      7\u001b[0m     test_dataset,\n\u001b[0;32m      8\u001b[0m )\n\u001b[1;32m----> 9\u001b[0m trainer\u001b[39m.\u001b[39;49mtrain()\n",
      "File \u001b[1;32m~\\Documents\\GitHub\\AI\\superhf\\src\\superhf\\finetuning.py:118\u001b[0m, in \u001b[0;36mtrain\u001b[1;34m(self, batch_size)\u001b[0m\n\u001b[0;32m    113\u001b[0m batch \u001b[39m=\u001b[39m prompts[i : i \u001b[39m+\u001b[39m batch_size]\n\u001b[0;32m    114\u001b[0m tokenized \u001b[39m=\u001b[39m \u001b[39mself\u001b[39m\u001b[39m.\u001b[39mlanguage_tokenizer(\n\u001b[0;32m    115\u001b[0m     batch, padding\u001b[39m=\u001b[39m\u001b[39mTrue\u001b[39;00m, return_tensors\u001b[39m=\u001b[39m\u001b[39m\"\u001b[39m\u001b[39mpt\u001b[39m\u001b[39m\"\u001b[39m\n\u001b[0;32m    116\u001b[0m )\u001b[39m.\u001b[39mto(\u001b[39mself\u001b[39m\u001b[39m.\u001b[39mlanguage_model\u001b[39m.\u001b[39mdevice)\n\u001b[1;32m--> 118\u001b[0m generated_tokens: TensorType \u001b[39m=\u001b[39m \u001b[39mself\u001b[39m\u001b[39m.\u001b[39mlanguage_model\u001b[39m.\u001b[39mgenerate(\n\u001b[0;32m    119\u001b[0m     inputs\u001b[39m=\u001b[39mtokenized[\u001b[39m\"\u001b[39m\u001b[39minput_ids\u001b[39m\u001b[39m\"\u001b[39m],\n\u001b[0;32m    120\u001b[0m     attention_mask\u001b[39m=\u001b[39mtokenized[\u001b[39m\"\u001b[39m\u001b[39mattention_mask\u001b[39m\u001b[39m\"\u001b[39m],\n\u001b[0;32m    121\u001b[0m     max_length\u001b[39m=\u001b[39m\u001b[39m256\u001b[39m,\n\u001b[0;32m    122\u001b[0m     num_beams\u001b[39m=\u001b[39m\u001b[39m1\u001b[39m,\n\u001b[0;32m    123\u001b[0m     temperature\u001b[39m=\u001b[39m\u001b[39mself\u001b[39m\u001b[39m.\u001b[39mtemperature,\n\u001b[0;32m    124\u001b[0m     early_stopping\u001b[39m=\u001b[39m\u001b[39mTrue\u001b[39;00m,\n\u001b[0;32m    125\u001b[0m     pad_token_id\u001b[39m=\u001b[39m\u001b[39mself\u001b[39m\u001b[39m.\u001b[39mlanguage_tokenizer\u001b[39m.\u001b[39mpad_token_id,\n\u001b[0;32m    126\u001b[0m )\n\u001b[0;32m    128\u001b[0m \u001b[39m# Convert to a list\u001b[39;00m\n\u001b[0;32m    129\u001b[0m generated_tokens \u001b[39m=\u001b[39m generated_tokens\u001b[39m.\u001b[39mtolist()\n",
      "File \u001b[1;32mc:\\Users\\Gabe\\anaconda3\\envs\\superhf\\lib\\site-packages\\torch\\autograd\\grad_mode.py:27\u001b[0m, in \u001b[0;36m_DecoratorContextManager.__call__.<locals>.decorate_context\u001b[1;34m(*args, **kwargs)\u001b[0m\n\u001b[0;32m     24\u001b[0m \u001b[39m@functools\u001b[39m\u001b[39m.\u001b[39mwraps(func)\n\u001b[0;32m     25\u001b[0m \u001b[39mdef\u001b[39;00m \u001b[39mdecorate_context\u001b[39m(\u001b[39m*\u001b[39margs, \u001b[39m*\u001b[39m\u001b[39m*\u001b[39mkwargs):\n\u001b[0;32m     26\u001b[0m     \u001b[39mwith\u001b[39;00m \u001b[39mself\u001b[39m\u001b[39m.\u001b[39mclone():\n\u001b[1;32m---> 27\u001b[0m         \u001b[39mreturn\u001b[39;00m func(\u001b[39m*\u001b[39margs, \u001b[39m*\u001b[39m\u001b[39m*\u001b[39mkwargs)\n",
      "File \u001b[1;32mc:\\Users\\Gabe\\anaconda3\\envs\\superhf\\lib\\site-packages\\transformers\\generation\\utils.py:1391\u001b[0m, in \u001b[0;36mGenerationMixin.generate\u001b[1;34m(self, inputs, generation_config, logits_processor, stopping_criteria, prefix_allowed_tokens_fn, synced_gpus, **kwargs)\u001b[0m\n\u001b[0;32m   1385\u001b[0m         \u001b[39mraise\u001b[39;00m \u001b[39mValueError\u001b[39;00m(\n\u001b[0;32m   1386\u001b[0m             \u001b[39mf\u001b[39m\u001b[39m\"\u001b[39m\u001b[39mnum_return_sequences has to be 1, but is \u001b[39m\u001b[39m{\u001b[39;00mgeneration_config\u001b[39m.\u001b[39mnum_return_sequences\u001b[39m}\u001b[39;00m\u001b[39m when doing\u001b[39m\u001b[39m\"\u001b[39m\n\u001b[0;32m   1387\u001b[0m             \u001b[39m\"\u001b[39m\u001b[39m greedy search.\u001b[39m\u001b[39m\"\u001b[39m\n\u001b[0;32m   1388\u001b[0m         )\n\u001b[0;32m   1390\u001b[0m     \u001b[39m# 11. run greedy search\u001b[39;00m\n\u001b[1;32m-> 1391\u001b[0m     \u001b[39mreturn\u001b[39;00m \u001b[39mself\u001b[39m\u001b[39m.\u001b[39mgreedy_search(\n\u001b[0;32m   1392\u001b[0m         input_ids,\n\u001b[0;32m   1393\u001b[0m         logits_processor\u001b[39m=\u001b[39mlogits_processor,\n\u001b[0;32m   1394\u001b[0m         stopping_criteria\u001b[39m=\u001b[39mstopping_criteria,\n\u001b[0;32m   1395\u001b[0m         pad_token_id\u001b[39m=\u001b[39mgeneration_config\u001b[39m.\u001b[39mpad_token_id,\n\u001b[0;32m   1396\u001b[0m         eos_token_id\u001b[39m=\u001b[39mgeneration_config\u001b[39m.\u001b[39meos_token_id,\n\u001b[0;32m   1397\u001b[0m         output_scores\u001b[39m=\u001b[39mgeneration_config\u001b[39m.\u001b[39moutput_scores,\n\u001b[0;32m   1398\u001b[0m         return_dict_in_generate\u001b[39m=\u001b[39mgeneration_config\u001b[39m.\u001b[39mreturn_dict_in_generate,\n\u001b[0;32m   1399\u001b[0m         synced_gpus\u001b[39m=\u001b[39msynced_gpus,\n\u001b[0;32m   1400\u001b[0m         \u001b[39m*\u001b[39m\u001b[39m*\u001b[39mmodel_kwargs,\n\u001b[0;32m   1401\u001b[0m     )\n\u001b[0;32m   1403\u001b[0m \u001b[39melif\u001b[39;00m is_contrastive_search_gen_mode:\n\u001b[0;32m   1404\u001b[0m     \u001b[39mif\u001b[39;00m generation_config\u001b[39m.\u001b[39mnum_return_sequences \u001b[39m>\u001b[39m \u001b[39m1\u001b[39m:\n",
      "File \u001b[1;32mc:\\Users\\Gabe\\anaconda3\\envs\\superhf\\lib\\site-packages\\transformers\\generation\\utils.py:2219\u001b[0m, in \u001b[0;36mGenerationMixin.greedy_search\u001b[1;34m(self, input_ids, logits_processor, stopping_criteria, max_length, pad_token_id, eos_token_id, output_attentions, output_hidden_states, output_scores, return_dict_in_generate, synced_gpus, **model_kwargs)\u001b[0m\n\u001b[0;32m   2217\u001b[0m     \u001b[39mif\u001b[39;00m pad_token_id \u001b[39mis\u001b[39;00m \u001b[39mNone\u001b[39;00m:\n\u001b[0;32m   2218\u001b[0m         \u001b[39mraise\u001b[39;00m \u001b[39mValueError\u001b[39;00m(\u001b[39m\"\u001b[39m\u001b[39mIf `eos_token_id` is defined, make sure that `pad_token_id` is defined.\u001b[39m\u001b[39m\"\u001b[39m)\n\u001b[1;32m-> 2219\u001b[0m     next_tokens \u001b[39m=\u001b[39m next_tokens \u001b[39m*\u001b[39m unfinished_sequences \u001b[39m+\u001b[39m pad_token_id \u001b[39m*\u001b[39m (\u001b[39m1\u001b[39;49m \u001b[39m-\u001b[39;49m unfinished_sequences)\n\u001b[0;32m   2221\u001b[0m \u001b[39m# update generated ids, model inputs, and length for next step\u001b[39;00m\n\u001b[0;32m   2222\u001b[0m input_ids \u001b[39m=\u001b[39m torch\u001b[39m.\u001b[39mcat([input_ids, next_tokens[:, \u001b[39mNone\u001b[39;00m]], dim\u001b[39m=\u001b[39m\u001b[39m-\u001b[39m\u001b[39m1\u001b[39m)\n",
      "File \u001b[1;32mc:\\Users\\Gabe\\anaconda3\\envs\\superhf\\lib\\site-packages\\torch\\_tensor.py:39\u001b[0m, in \u001b[0;36m_handle_torch_function_and_wrap_type_error_to_not_implemented.<locals>.wrapped\u001b[1;34m(*args, **kwargs)\u001b[0m\n\u001b[0;32m     37\u001b[0m     \u001b[39mif\u001b[39;00m has_torch_function(args):\n\u001b[0;32m     38\u001b[0m         \u001b[39mreturn\u001b[39;00m handle_torch_function(wrapped, args, \u001b[39m*\u001b[39margs, \u001b[39m*\u001b[39m\u001b[39m*\u001b[39mkwargs)\n\u001b[1;32m---> 39\u001b[0m     \u001b[39mreturn\u001b[39;00m f(\u001b[39m*\u001b[39margs, \u001b[39m*\u001b[39m\u001b[39m*\u001b[39mkwargs)\n\u001b[0;32m     40\u001b[0m \u001b[39mexcept\u001b[39;00m \u001b[39mTypeError\u001b[39;00m:\n\u001b[0;32m     41\u001b[0m     \u001b[39mreturn\u001b[39;00m \u001b[39mNotImplemented\u001b[39m\n",
      "File \u001b[1;32mc:\\Users\\Gabe\\anaconda3\\envs\\superhf\\lib\\site-packages\\torch\\_tensor.py:834\u001b[0m, in \u001b[0;36mTensor.__rsub__\u001b[1;34m(self, other)\u001b[0m\n\u001b[0;32m    832\u001b[0m \u001b[39m@_handle_torch_function_and_wrap_type_error_to_not_implemented\u001b[39m\n\u001b[0;32m    833\u001b[0m \u001b[39mdef\u001b[39;00m \u001b[39m__rsub__\u001b[39m(\u001b[39mself\u001b[39m, other):\n\u001b[1;32m--> 834\u001b[0m     \u001b[39mreturn\u001b[39;00m _C\u001b[39m.\u001b[39;49m_VariableFunctions\u001b[39m.\u001b[39;49mrsub(\u001b[39mself\u001b[39;49m, other)\n",
      "\u001b[1;31mKeyboardInterrupt\u001b[0m: "
     ]
    }
   ],
   "source": [
    "trainer = SinglePassBestOfNTrainer(\n",
    "    language_model,\n",
    "    reward_model,\n",
    "    language_tokenizer,\n",
    "    reward_tokenizer,\n",
    "    train_dataset,\n",
    "    test_dataset,\n",
    ")\n",
    "trainer.train()"
   ]
  }
 ],
 "metadata": {
  "kernelspec": {
   "display_name": "superhf",
   "language": "python",
   "name": "python3"
  },
  "language_info": {
   "codemirror_mode": {
    "name": "ipython",
    "version": 3
   },
   "file_extension": ".py",
   "mimetype": "text/x-python",
   "name": "python",
   "nbconvert_exporter": "python",
   "pygments_lexer": "ipython3",
   "version": "3.10.8"
  },
  "orig_nbformat": 4
 },
 "nbformat": 4,
 "nbformat_minor": 2
}
